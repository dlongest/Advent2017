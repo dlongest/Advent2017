{
 "cells": [
  {
   "cell_type": "markdown",
   "metadata": {},
   "source": [
    "# Advent of Code Day 8"
   ]
  },
  {
   "cell_type": "code",
   "execution_count": null,
   "metadata": {
    "collapsed": true
   },
   "outputs": [],
   "source": [
    "import re\n",
    "from collections import defaultdict\n",
    "from utils import read_input\n",
    "import sys"
   ]
  },
  {
   "cell_type": "code",
   "execution_count": null,
   "metadata": {
    "collapsed": false
   },
   "outputs": [],
   "source": [
    "def process_instructions(instructions, monitor = None):\n",
    "    if monitor is None:\n",
    "        monitor = lambda r: None\n",
    "    \n",
    "    registers = defaultdict(lambda: 0)   \n",
    "    \n",
    "    for instruction in instructions:        \n",
    "        if meets_register_conditional(registers, instruction):                   \n",
    "            execute_instruction(registers, instruction)\n",
    "            monitor(registers)\n",
    "            \n",
    "    return registers\n",
    "\n",
    "def execute_instruction(registers, instruction):\n",
    "    op = get_op_func(instruction['Op'])    \n",
    "    registers[instruction['Register']] = op(registers[instruction['Register']], instruction['Adjustment'])    \n",
    "\n",
    "    \n",
    "        \n",
    "def parse_instruction(instruction):\n",
    "        instruction_elements = {}\n",
    "    \n",
    "        tokens = instruction.split()\n",
    "       \n",
    "        instruction_elements['Register'] = tokens[0]\n",
    "        instruction_elements['Op'] = tokens[1]\n",
    "        instruction_elements['Adjustment'] = int(tokens[2])\n",
    "        instruction_elements['Compare Register'] = tokens[4]\n",
    "        instruction_elements['Compare Op'] = tokens[5]        \n",
    "        instruction_elements['Compare Value'] = int(tokens[6])       \n",
    "        \n",
    "        return instruction_elements\n",
    "        \n",
    "def meets_register_conditional(registers, instruction):\n",
    "    compare = get_compare_func(instruction['Compare Op'])\n",
    "    \n",
    "    register_value = registers[instruction['Compare Register']]\n",
    "    compare_value = instruction['Compare Value']\n",
    "    \n",
    "    result = compare(register_value, compare_value)    \n",
    "\n",
    "    return result\n",
    "    \n",
    "    \n",
    "def get_compare_func(boolean_op):\n",
    "    if boolean_op == '>':\n",
    "        return lambda a, b: a > b\n",
    "    elif boolean_op == '>=':\n",
    "        return lambda a, b: a >= b\n",
    "    elif boolean_op == '<':\n",
    "        return lambda a, b: a < b\n",
    "    elif boolean_op == '<=':\n",
    "        return lambda a, b: a <= b\n",
    "    elif boolean_op == '==':\n",
    "        return lambda a, b: a == b\n",
    "    elif boolean_op == '!=':\n",
    "        return lambda a, b: a != b\n",
    "    else:\n",
    "        raise ValueError('Did not recognize operator {}'.format(boolean_op))  \n",
    "\n",
    "def get_op_func(op):\n",
    "    if op == 'inc':\n",
    "        return lambda a, b: a + b\n",
    "    elif op == 'dec':\n",
    "        return lambda a, b: a - b\n",
    "    else:\n",
    "        raise ValueError('Did not recognize operator {}'.format(op))\n",
    "    \n",
    "        "
   ]
  },
  {
   "cell_type": "code",
   "execution_count": null,
   "metadata": {
    "collapsed": true
   },
   "outputs": [],
   "source": [
    "def load_instructions():\n",
    "    return ['b inc 5 if a > 1',\n",
    "            'a inc 1 if b < 5',\n",
    "            'c dec -10 if a >= 1',\n",
    "            'c inc -20 if c == 10']\n",
    "            "
   ]
  },
  {
   "cell_type": "code",
   "execution_count": null,
   "metadata": {
    "collapsed": false
   },
   "outputs": [],
   "source": [
    "def solve_part_one():\n",
    "    instructions = map(lambda i: parse_instruction(i), read_input('Input/day8.txt'))\n",
    "    \n",
    "    max_seen = [-10000000000000]\n",
    "    \n",
    "    registers = process_instructions(instructions, lambda s: max_seen.__setitem__(0, max_value(s, max_seen[0])))\n",
    "    \n",
    "    s = sorted([(v, k) for (k,v) in registers.items()])[-1]\n",
    "    \n",
    "    print 'Maximum is register {} = {}'.format(s[1], s[0])\n",
    "    print 'Maximum is register {} = {}'.format(max_seen[0][1], max_seen[0][0])\n",
    "    \n",
    "    \n",
    "def max_value(registers, current_max):\n",
    "    register_max = sorted([(v, k) for (k,v) in registers.items()])[-1]\n",
    "    \n",
    "    if current_max > register_max:\n",
    "        return current_max\n",
    "    else:\n",
    "        return register_max\n"
   ]
  },
  {
   "cell_type": "code",
   "execution_count": null,
   "metadata": {
    "collapsed": false
   },
   "outputs": [],
   "source": [
    "solve_part_one()"
   ]
  },
  {
   "cell_type": "code",
   "execution_count": null,
   "metadata": {
    "collapsed": true
   },
   "outputs": [],
   "source": []
  }
 ],
 "metadata": {
  "anaconda-cloud": {},
  "kernelspec": {
   "display_name": "Python [Root]",
   "language": "python",
   "name": "Python [Root]"
  },
  "language_info": {
   "codemirror_mode": {
    "name": "ipython",
    "version": 2
   },
   "file_extension": ".py",
   "mimetype": "text/x-python",
   "name": "python",
   "nbconvert_exporter": "python",
   "pygments_lexer": "ipython2",
   "version": "2.7.12"
  }
 },
 "nbformat": 4,
 "nbformat_minor": 0
}
