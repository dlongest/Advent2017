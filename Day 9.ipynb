{
 "cells": [
  {
   "cell_type": "markdown",
   "metadata": {},
   "source": [
    "# Advent of Code Day 9\n",
    "\n",
    "On Day 9, the objective is to build a character stream parser to handle some special cases and compute a score based on the stream.  In part one, the goal is to count the number of groups (indicated by {}), giving each a bonus based on its depth (i.e. being inside another group).   However, <> are garbage and no groups can appear within them and ! cancel the next character.  In part two, we need to also count the number of cancelled characters. "
   ]
  },
  {
   "cell_type": "code",
   "execution_count": null,
   "metadata": {
    "collapsed": true
   },
   "outputs": [],
   "source": [
    "from utils import read_input"
   ]
  },
  {
   "cell_type": "markdown",
   "metadata": {},
   "source": [
    "### Parser\n",
    "\n",
    "This is the first problem where I thought making a class made sense.  This implementation works correctly, but it's readability is not great.  I could nominally improve it by breaking up the parse method into other methods, but this feels like a case where the State pattern should apply.  In other languages, I'd define an inner State class for the various modes and it would have access to the variables in the containing scope.  However, Python doesn't support it in that way so I need to figure out the Pythonic way to approach it.  I could expose some parts of Parser as \"public\" methods and have State manipulate those, but that would send the wrong message about Parser.  Since the State methods are pretty unique to the Parser, I could have the States simply manipulate the Parser's \"private\" instances as needed.  This is probably what I'll do and I think it's on the right side of Python's intent, but this is a case where Pyton is quite a bit different from other languages I've used so I need to find the right idiom."
   ]
  },
  {
   "cell_type": "code",
   "execution_count": null,
   "metadata": {
    "collapsed": false
   },
   "outputs": [],
   "source": [
    "from __future__ import print_function\n",
    "\n",
    "class Parser(object):\n",
    "    \n",
    "    def __init__(self, verbose = False):\n",
    "     \n",
    "        self._current_depth = 0               \n",
    "        self._score = 0\n",
    "        self._garbage_mode = False\n",
    "        self._ignore_mode = False\n",
    "        self._cancelled = 0\n",
    "        if verbose:\n",
    "            self._print = lambda x: print(x)\n",
    "        else:\n",
    "            self._print = lambda x: ()\n",
    "    \n",
    "    def parse(self, s):\n",
    "        for c in s:\n",
    "            self._print('Processing {}'.format(c))\n",
    "            # If the last character was a !, we always ignore the current character\n",
    "            if self._ignore_mode:\n",
    "                print('Ignore mode enabled so ignoring {} and turning off ignore'.format(c))               \n",
    "                self._ignore_mode = False\n",
    "            elif c == '!':\n",
    "                print(\"Starting ignore mode as ! was read\")\n",
    "                self._ignore_mode = True            \n",
    "            elif c == '<' and not self._garbage_mode:\n",
    "                self._garbage_mode = True\n",
    "                self._print('Start garbage mode')\n",
    "            elif c == '>':\n",
    "                self._garbage_mode = False  \n",
    "                self._print('End garbage mode')\n",
    "            elif c == '{' and not self._garbage_mode:            \n",
    "                self._current_depth +=1\n",
    "                self._print('Increasing depth to {}'.format(self._current_depth))\n",
    "            elif c == '}' and not self._garbage_mode:\n",
    "                self._print('Adding {} to score'.format(self._current_depth))\n",
    "                self._score += self._current_depth\n",
    "                self._print('Score now equal to {}'.format(self._score))\n",
    "                self._current_depth -= 1\n",
    "                self._print('Decreasing depth to {}'.format(self._current_depth))\n",
    "            elif self._garbage_mode:\n",
    "                self._print('Incrementing garbage mode count as {} is during garbage mode'.format(c))\n",
    "                self._cancelled += 1                \n",
    "            else:\n",
    "                self._print('No action taken on character {}'.format(c))           \n",
    "            \n",
    "    def reset(self):\n",
    "        self._current_depth = 0\n",
    "        self._score = 0        \n",
    "        self._garbage_mode = False\n",
    "        self._ignore_mode = False\n",
    "        self._cancelled = 0\n",
    "        \n",
    "    def cancelled_characters(self):\n",
    "        return self._cancelled\n",
    "    \n",
    "    def score(self):\n",
    "        return self._score\n",
    "\n",
    "        \n",
    "class _NormalParseMode:\n",
    "    \n",
    "    def __init__(self):\n",
    "        pass\n",
    "    \n",
    "    def next(c):\n",
    "        pass\n",
    "        "
   ]
  },
  {
   "cell_type": "markdown",
   "metadata": {},
   "source": [
    "### Parser Tests\n",
    "\n",
    "It made sense to define some actual tests for this particular problem given the complexity."
   ]
  },
  {
   "cell_type": "code",
   "execution_count": null,
   "metadata": {
    "collapsed": false
   },
   "outputs": [],
   "source": [
    "def run_parse_tests():\n",
    "    p = Parser(verbose = True)\n",
    "    \n",
    "    test_cases = [(1, '{}'), (6, '{{{}}}'), (5, '{{},{}}'), (16, '{{{},{},{{}}}}'),\n",
    "                  (1, '{<a>,<a>,<a>,<a>}'), (9, '{{<ab>},{<ab>},{<ab>},{<ab>}}'), \n",
    "                  (9, '{{<!!>},{<!!>},{<!!>},{<!!>}}'), (3, '{{<a!>},{<a!>},{<a!>},{<ab>}}')]\n",
    "    \n",
    "    for i, (expected, test_string) in enumerate(test_cases):\n",
    "        print('Running test {}'.format(i + 1))\n",
    "        \n",
    "        p.parse(test_string)\n",
    "        assert expected == p.score(), 'Expected {} != Actual {}'.format(expected, actual)\n",
    "        print('Test Complete\\n')\n",
    "        p.reset()\n",
    "        \n",
    "    print(\"All tests passed\")\n",
    "    \n",
    "def run_cancellation_count_tests():\n",
    "    p = Parser(verbose = True)\n",
    "    \n",
    "    test_cases = [(0, '<>'), (17, '<random characters>'), (3, '<<<<>'), (2, '<{!>}>'),\n",
    "                  (0, '<!!>'), (0, '<!!!>>'), (10, '<{o\"i!a,<{i<a>')]\n",
    "    \n",
    "    for i, (expected, test_string) in enumerate(test_cases):\n",
    "        print('Running test {}'.format(i + 1))\n",
    "        \n",
    "        p.parse(test_string)\n",
    "        assert expected == p.cancelled_characters(), 'Expected {} != Actual {}'.format(expected, actual)\n",
    "        print('Test Complete\\n')\n",
    "        p.reset()\n",
    "        \n",
    "    print(\"All tests passed\")"
   ]
  },
  {
   "cell_type": "code",
   "execution_count": null,
   "metadata": {
    "collapsed": false
   },
   "outputs": [],
   "source": [
    "def solve_both_parts():\n",
    "    stream = read_input('Input/day9.txt')[0]\n",
    "    \n",
    "    parser = Parser(verbose = False)\n",
    "    parser.parse(stream)\n",
    "    \n",
    "    print('Score = {}'.format(parser.score()))\n",
    "    print('Cancelled = {}'.format(parser.cancelled_characters()))\n"
   ]
  },
  {
   "cell_type": "code",
   "execution_count": null,
   "metadata": {
    "collapsed": false
   },
   "outputs": [],
   "source": [
    "solve_both_parts()"
   ]
  },
  {
   "cell_type": "code",
   "execution_count": null,
   "metadata": {
    "collapsed": true
   },
   "outputs": [],
   "source": []
  }
 ],
 "metadata": {
  "kernelspec": {
   "display_name": "Python [Root]",
   "language": "python",
   "name": "Python [Root]"
  },
  "language_info": {
   "codemirror_mode": {
    "name": "ipython",
    "version": 2
   },
   "file_extension": ".py",
   "mimetype": "text/x-python",
   "name": "python",
   "nbconvert_exporter": "python",
   "pygments_lexer": "ipython2",
   "version": "2.7.12"
  }
 },
 "nbformat": 4,
 "nbformat_minor": 0
}
