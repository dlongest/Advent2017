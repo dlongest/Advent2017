{
 "cells": [
  {
   "cell_type": "markdown",
   "metadata": {},
   "source": [
    "# Advent of Code Day 11\n",
    "\n",
    "On Day 11, we will use a hexagonal grid as the basis for moves around a plane.  The problem mentioned some lost process that has wandered around the hex grid.  In part one, we have to figure out how far away the process is after completing his wandering.  In part two, we have to determine the furthest point from the start that he reached at any point during the wanderings.  "
   ]
  },
  {
   "cell_type": "code",
   "execution_count": null,
   "metadata": {
    "collapsed": true
   },
   "outputs": [],
   "source": [
    "from utils import read_input"
   ]
  },
  {
   "cell_type": "markdown",
   "metadata": {},
   "source": [
    "### Move\n",
    "Given a current coordinate (as cube coordinate (x, y, z)), return the new coordinate after moving in direction.  The key choice is to use cube coordinates for this problem as that orients us to how we will address the hex tiles and the computation of distance.  Information on hex tiling from https://www.redblobgames.com/grids/hexagons/ was very useful and laid out several options for working with hexes.  I chose cube coordinates because that best fit my mental model for addressing the tiles within some kind of coordinate plane and generally avoided the special cases of knowing if you're in an offset or non-offset column.\n"
   ]
  },
  {
   "cell_type": "code",
   "execution_count": null,
   "metadata": {
    "collapsed": true
   },
   "outputs": [],
   "source": [
    "def move(current_coord, direction):\n",
    "    if direction == 's':\n",
    "        return (current_coord[0], current_coord[1] - 1, current_coord[2] + 1)\n",
    "    elif direction == 'n':\n",
    "        return (current_coord[0], current_coord[1] + 1, current_coord[2] - 1)\n",
    "    elif direction == 'se':\n",
    "        return (current_coord[0] + 1, current_coord[1] - 1, current_coord[2] )\n",
    "    elif direction == 'nw':\n",
    "        return (current_coord[0] - 1, current_coord[1] + 1, current_coord[2])\n",
    "    elif direction == 'ne':\n",
    "          return (current_coord[0] + 1, current_coord[1], current_coord[2] - 1)\n",
    "    elif direction == 'sw':\n",
    "         return (current_coord[0] - 1, current_coord[1], current_coord[2] + 1)   \n",
    "    else:\n",
    "        raise ValueError(\"Unrecognized direction {}\".format(direction))\n",
    "\n",
    " "
   ]
  },
  {
   "cell_type": "markdown",
   "metadata": {},
   "source": [
    "### Wander\n",
    "\n",
    "Wander takes an initial cube coordinate and then applies each direction to it (by calling move) to reach a final coordinate, which is returned.  After each move, monitor is invoked to give a client an opportunity to inspect each newly-reached coordinate."
   ]
  },
  {
   "cell_type": "code",
   "execution_count": null,
   "metadata": {
    "collapsed": true
   },
   "outputs": [],
   "source": [
    "def wander(start, directions, monitor = None):\n",
    "    if monitor is None:\n",
    "        monitor = lambda c: ()\n",
    "    \n",
    "    coord = start\n",
    "    for direction in directions:\n",
    "        coord = move(coord, direction)\n",
    "        monitor(coord)\n",
    "                    \n",
    "    return coord"
   ]
  },
  {
   "cell_type": "markdown",
   "metadata": {},
   "source": [
    "### Distance\n",
    "\n",
    "The computation for cube coordinate distance was taken from https://www.redblobgames.com/grids/hexagons/ and just implemented as instructed.  T"
   ]
  },
  {
   "cell_type": "code",
   "execution_count": null,
   "metadata": {
    "collapsed": false
   },
   "outputs": [],
   "source": [
    "def distance(start, end):\n",
    "    return (abs(start[0] - end[0]) + abs(start[1] - end[1]) + abs(start[2] - end[2])) / 2.0     "
   ]
  },
  {
   "cell_type": "markdown",
   "metadata": {},
   "source": [
    "## Test Cases\n",
    "\n",
    "Run some tests to verify the functionality of move, wander, and distance."
   ]
  },
  {
   "cell_type": "code",
   "execution_count": null,
   "metadata": {
    "collapsed": false
   },
   "outputs": [],
   "source": [
    "def run_move_tests():\n",
    "    print 'Run move tests....'\n",
    "    origin = (0, 0, 0)\n",
    "    \n",
    "    test_cases = [('s', (0, -1, 1)), ('n', (0, 1, -1)), ('se', (1, -1, 0)), ('nw', (-1, 1, 0)), \\\n",
    "                  ('sw', (-1, 0, 1)), ('ne', (1, 0, -1))]\n",
    "    \n",
    "    for i, (direction, expected_coord) in enumerate(test_cases):\n",
    "        actual_coord = move(origin, direction)\n",
    "        \n",
    "        assert expected_coord == actual_coord, 'Expected {} does not match Actual {}'.format(expected_coord, actual_coord)\n",
    "    \n",
    "    print 'All tests passed'\n",
    "\n",
    "def run_wander_tests():\n",
    "    print 'Run wander tests....'\n",
    "    origin = (0, 0, 0)\n",
    "    \n",
    "    test_cases = [(['ne', 'ne', 'ne'], (3, 0, -3)), (['ne', 'ne', 'sw', 'sw'], (0, 0, 0)), \\\n",
    "                  (['ne', 'ne', 's', 's'], (2, -2, 0)), (['se', 'sw', 'se', 'sw', 'sw'], (-1, -2, 3))]    \n",
    "    \n",
    "    for i, (directions, expected_coord) in enumerate(test_cases):\n",
    "        actual_coord = wander(origin, directions)\n",
    "        \n",
    "        assert expected_coord == actual_coord, 'Expected {} does not match Actual {}'.format(expected_coord, actual_coord)\n",
    "    \n",
    "    print 'All tests passed'\n",
    "    \n",
    "def run_distance_tests():\n",
    "    print 'Run distance tests....'\n",
    "    \n",
    "    origin = (0, 0, 0)\n",
    "    \n",
    "    test_cases = [((-1, 0, 1), 1), ((-2, 0, 2), 2), ((-3, 1, 2), 3), ((-4, 1, 3), 4), ((-5, 1, 4), 5), \\\n",
    "                  ((1, 3, -4), 4), ((5, -2, -3), 5)]\n",
    "    \n",
    "    for i, (coord, expected_distance) in enumerate(test_cases):\n",
    "        actual_distance = distance(origin, coord)\n",
    "        \n",
    "        assert expected_distance == actual_distance, \\\n",
    "              'Expected Distance {} does not match Actual Distance {}'.format(expected_distance, actual_distance)\n",
    "    \n",
    "    print 'All tests passed'\n",
    "    \n",
    "def run_wander_distance_tests():\n",
    "    print 'Run wander distance tests....'\n",
    "    origin = (0, 0, 0)\n",
    "    \n",
    "    test_cases = [(['ne', 'ne', 'ne'], 3), (['ne', 'ne', 'sw', 'sw'], 0), (['ne', 'ne', 's', 's'], 2),\n",
    "                  (['se', 'sw', 'se', 'sw', 'sw'], 3)]    \n",
    "    \n",
    "    for i, (directions, expected_distance) in enumerate(test_cases):\n",
    "        ended_at = wander(origin, directions)\n",
    "        actual_distance = distance(origin, ended_at)\n",
    "        \n",
    "        assert expected_distance == actual_distance, \\\n",
    "              'Expected Distance {} does not match Actual Distance {}'.format(expected_distance, actual_distance)\n",
    "    \n",
    "    print 'All tests passed'"
   ]
  },
  {
   "cell_type": "markdown",
   "metadata": {},
   "source": [
    "## Solve\n",
    "\n",
    "We'll do the solves for both parts in one function since part 2 is just an elaboration on part 1.  We can easily weave them together by use of a lambda to inspect each coordinate we move to and keeping track of the max distance traveled locally. "
   ]
  },
  {
   "cell_type": "code",
   "execution_count": null,
   "metadata": {
    "collapsed": false
   },
   "outputs": [],
   "source": [
    "def solve_both_parts():\n",
    "    directions = read_input('Input/day11.txt')[0].split(',')\n",
    "    \n",
    "    # We have to put our max distance into an array so we can use __setitem__ since lambdas can't assign to locals     \n",
    "    max_distance = [0]  \n",
    "        \n",
    "    started_at = (0, 0, 0)\n",
    "       \n",
    "    ended_at = wander(started_at, directions, \\\n",
    "                      lambda c: max_distance.__setitem__(0, max(distance(started_at, c), max_distance[0])))\n",
    "    \n",
    "    distance_between = distance(started_at, ended_at)\n",
    "    \n",
    "    print 'Ended at {}'.format(ended_at)\n",
    "    print 'Total distance from start = {}'.format(distance_between)\n",
    "    print 'Furthest distance away = {}'.format(max_distance)"
   ]
  },
  {
   "cell_type": "code",
   "execution_count": null,
   "metadata": {
    "collapsed": false
   },
   "outputs": [],
   "source": [
    "solve_both_parts()"
   ]
  },
  {
   "cell_type": "code",
   "execution_count": null,
   "metadata": {
    "collapsed": true
   },
   "outputs": [],
   "source": []
  }
 ],
 "metadata": {
  "kernelspec": {
   "display_name": "Python [Root]",
   "language": "python",
   "name": "Python [Root]"
  },
  "language_info": {
   "codemirror_mode": {
    "name": "ipython",
    "version": 2
   },
   "file_extension": ".py",
   "mimetype": "text/x-python",
   "name": "python",
   "nbconvert_exporter": "python",
   "pygments_lexer": "ipython2",
   "version": "2.7.12"
  }
 },
 "nbformat": 4,
 "nbformat_minor": 0
}
