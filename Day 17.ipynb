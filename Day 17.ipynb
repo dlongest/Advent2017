{
 "cells": [
  {
   "cell_type": "markdown",
   "metadata": {},
   "source": [
    "# Advent of Code Day 17\n",
    "\n",
    "Day 17 calls for implementing a \"spinlock\", which builds up a collection of numbers by moving around the collection by a fixed step size and inserting each new value.  In Part One, we stop after inserting value 2017 and output the value that is immediately after 2017 in the collection.  In Part Two, we insert 50 million values and output the value immediately after 0. "
   ]
  },
  {
   "cell_type": "markdown",
   "metadata": {},
   "source": [
    "### Part One\n",
    "\n",
    "For part one, we maintain the list of values as they're being inserted.  Then after inserting 2017, we find its index and advance one.  The next insertion point is step_size forward (wrapped around the front of the collection) plus 1.  "
   ]
  },
  {
   "cell_type": "code",
   "execution_count": null,
   "metadata": {
    "collapsed": true
   },
   "outputs": [],
   "source": [
    "def spinlock_one(max_value, step_size):\n",
    "    values = [0]\n",
    "    current_index = 0\n",
    "         \n",
    "    for value in xrange(1, max_value + 1):      \n",
    "        current_index = (current_index + step_size) % len(values) + 1             \n",
    "       \n",
    "        values.insert(current_index, value)\n",
    "            \n",
    "    return values"
   ]
  },
  {
   "cell_type": "markdown",
   "metadata": {},
   "source": [
    "### Part 2\n",
    "\n",
    "For part 2, you don't need to maintain a list of values seen so far.  One key insight is that the value 0 will never move beyond index 0 (it always stays in the front) so figuring out the value after it when you reach 50 million iterations simply requires keeping track of the value that sits in that location as you move through.  The steps are always the step size adjusted by the value (a proxy for length of the non-existent collection).  Trying to maintain the collection makes the complexity of the runtime go up considerably (i.e. to O(50,000,000) * O(collection_size)).  By realizing that value 0 always stays at index 0, we can write the algorithm as just a loop through 50,000,000 values and only occasionally update a variable to reflect the state of index 1 if it's reached.  "
   ]
  },
  {
   "cell_type": "code",
   "execution_count": null,
   "metadata": {
    "collapsed": false
   },
   "outputs": [],
   "source": [
    "def spinlock_two(max_value, step_size):\n",
    "    \n",
    "    current_index = 0\n",
    "    value_after_0 = None\n",
    "         \n",
    "    for value in xrange(1, max_value + 1):\n",
    "      \n",
    "        current_index = (current_index + step_size) % value + 1            \n",
    "        \n",
    "        if current_index == 1:\n",
    "            value_after_0 = value\n",
    "      \n",
    "    return value_after_0"
   ]
  },
  {
   "cell_type": "code",
   "execution_count": null,
   "metadata": {
    "collapsed": false
   },
   "outputs": [],
   "source": [
    "def solve_part_one():\n",
    "    values = spinlock_one(2017, 367)\n",
    "    value_after_2017 = values[values.index(2017) + 1]\n",
    "    print value_after_2017\n",
    "    \n",
    "def solve_part_two():\n",
    "    print spinlock_two(50000000, 367)\n"
   ]
  },
  {
   "cell_type": "code",
   "execution_count": null,
   "metadata": {
    "collapsed": false
   },
   "outputs": [],
   "source": [
    "solve_part_one()"
   ]
  },
  {
   "cell_type": "code",
   "execution_count": null,
   "metadata": {
    "collapsed": true
   },
   "outputs": [],
   "source": []
  }
 ],
 "metadata": {
  "kernelspec": {
   "display_name": "Python [Root]",
   "language": "python",
   "name": "Python [Root]"
  },
  "language_info": {
   "codemirror_mode": {
    "name": "ipython",
    "version": 2
   },
   "file_extension": ".py",
   "mimetype": "text/x-python",
   "name": "python",
   "nbconvert_exporter": "python",
   "pygments_lexer": "ipython2",
   "version": "2.7.12"
  }
 },
 "nbformat": 4,
 "nbformat_minor": 0
}
