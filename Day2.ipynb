{
 "cells": [
  {
   "cell_type": "code",
   "execution_count": 28,
   "metadata": {
    "collapsed": false
   },
   "outputs": [],
   "source": [
    "def read_input():\n",
    "    f = open(\"Input/day2.txt\")   \n",
    "    \n",
    "    spreadsheet = []\n",
    "    \n",
    "    for line in f.readlines():\n",
    "        numbers = [int(x) for x in line.split('\\t')]\n",
    "        \n",
    "        spreadsheet.append(numbers)\n",
    "        \n",
    "    return spreadsheet\n",
    "    "
   ]
  },
  {
   "cell_type": "code",
   "execution_count": null,
   "metadata": {
    "collapsed": true
   },
   "outputs": [],
   "source": [
    "def compute_difference(numbers):\n",
    "    return abs(max(numbers) - min(numbers))"
   ]
  },
  {
   "cell_type": "code",
   "execution_count": 40,
   "metadata": {
    "collapsed": false
   },
   "outputs": [],
   "source": [
    "def find_divisible_pair(numbers):\n",
    "    \n",
    "    pairs = [(x,y) for x in numbers for y in numbers if x <> y]\n",
    "    \n",
    "    for first,second in pairs:\n",
    "        if second % first == 0 or first % second == 0:           \n",
    "            return (max(first, second), min(first, second))\n",
    "        \n",
    "    raise ValueError(\"Could not find divisible pair\")\n",
    "        \n",
    "    "
   ]
  },
  {
   "cell_type": "code",
   "execution_count": 31,
   "metadata": {
    "collapsed": false
   },
   "outputs": [],
   "source": [
    "def compute_difference_checksum(spreadsheet):\n",
    "    diffs = [compute_difference(row) for row in spreadsheet]\n",
    "    \n",
    "    return sum(diffs)\n",
    "    "
   ]
  },
  {
   "cell_type": "code",
   "execution_count": 32,
   "metadata": {
    "collapsed": false
   },
   "outputs": [],
   "source": [
    "def solve_part_one():\n",
    "\n",
    "    spreadsheet = read_input()\n",
    "\n",
    "    compute_checksum(spreadsheet)\n",
    "\n"
   ]
  },
  {
   "cell_type": "code",
   "execution_count": 57,
   "metadata": {
    "collapsed": false
   },
   "outputs": [],
   "source": [
    "def compute_divisible_checksum(spreadsheet):\n",
    "    \n",
    "    sum = 0\n",
    "    \n",
    "    for row in spreadsheet:\n",
    "        (first, second) = find_divisible_pair(row)\n",
    "               \n",
    "        sum = sum + (first / second)    \n",
    "    \n",
    "    return sum"
   ]
  },
  {
   "cell_type": "code",
   "execution_count": 60,
   "metadata": {
    "collapsed": false
   },
   "outputs": [],
   "source": [
    "def solve_part_two():\n",
    "    spreadsheet = read_input()\n",
    "    \n",
    "    print compute_divisible_checksum(spreadsheet)"
   ]
  },
  {
   "cell_type": "code",
   "execution_count": 61,
   "metadata": {
    "collapsed": false
   },
   "outputs": [
    {
     "name": "stdout",
     "output_type": "stream",
     "text": [
      "263\n"
     ]
    }
   ],
   "source": [
    "solve_part_two()"
   ]
  },
  {
   "cell_type": "code",
   "execution_count": null,
   "metadata": {
    "collapsed": true
   },
   "outputs": [],
   "source": []
  }
 ],
 "metadata": {
  "anaconda-cloud": {},
  "kernelspec": {
   "display_name": "Python [Root]",
   "language": "python",
   "name": "Python [Root]"
  },
  "language_info": {
   "codemirror_mode": {
    "name": "ipython",
    "version": 2
   },
   "file_extension": ".py",
   "mimetype": "text/x-python",
   "name": "python",
   "nbconvert_exporter": "python",
   "pygments_lexer": "ipython2",
   "version": "2.7.12"
  }
 },
 "nbformat": 4,
 "nbformat_minor": 0
}
