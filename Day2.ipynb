{
 "cells": [
  {
   "cell_type": "markdown",
   "metadata": {},
   "source": [
    "# Advent of Code Day 2"
   ]
  },
  {
   "cell_type": "markdown",
   "metadata": {},
   "source": [
    "### Utilities\n",
    "\n",
    "I didn't do this in Day 1 but now that we're into Day 2, I wrote a utility function to allow loading the puzzle input from a file.  This function is read_input out of the utils module.  It supports an optional lambda, which is called on each line as it's read and allows each day to determine how to shape the line-by-line input.  Based on last year, this will likely be needed for most or every day so makes reuse a bit easier.  Sometimes with Notebooks, people use %load to actually write the contents of the file directly into the Notebook, but I want to use them like standard Python modules."
   ]
  },
  {
   "cell_type": "code",
   "execution_count": null,
   "metadata": {
    "collapsed": true
   },
   "outputs": [],
   "source": [
    "import utils\n",
    "\n",
    "def read_spreadsheet():\n",
    "    return utils.read_input('Input/day2.txt', lambda x: [int(y) for y in x.split('\\t')])\n",
    "    "
   ]
  },
  {
   "cell_type": "markdown",
   "metadata": {},
   "source": [
    "### Range\n",
    "\n",
    "Computing the range is a simple enough matter mathematically.  "
   ]
  },
  {
   "cell_type": "code",
   "execution_count": null,
   "metadata": {
    "collapsed": true
   },
   "outputs": [],
   "source": [
    "def compute_range(numbers):\n",
    "    return max(numbers) - min(numbers)"
   ]
  },
  {
   "cell_type": "markdown",
   "metadata": {},
   "source": [
    "### Range Checksum\n",
    "\n",
    "After computing the range for each row in the spreadsheet, sum that up to produce the checksum as needed for part 1."
   ]
  },
  {
   "cell_type": "code",
   "execution_count": null,
   "metadata": {
    "collapsed": false
   },
   "outputs": [],
   "source": [
    "def compute_range_checksum(spreadsheet):\n",
    "    diffs = [compute_range(row) for row in spreadsheet]\n",
    "    \n",
    "    return sum(diffs)\n",
    "    "
   ]
  },
  {
   "cell_type": "markdown",
   "metadata": {},
   "source": [
    "### Divisible Pair\n",
    "\n",
    "As defined by the problem, each set of numbers will have a single pair where one is a divisor of the other and we need to find it.  My implementation is O(N^2) since I chose to use a Cartesian product to produce all potential sets of pairs, then search that to find the divisible pair.  An alternative is to search the set element by element and see if it divisible by or into any element after it.  Doing it that way (checking both sides of the element) means that for a collection of size N, you have to compare index 0 to N-1 elements, 1 to N-2, 2 to N-3, etc, which is still [N(N-1)]/2 ~ O(N^2)  "
   ]
  },
  {
   "cell_type": "code",
   "execution_count": null,
   "metadata": {
    "collapsed": true
   },
   "outputs": [],
   "source": [
    "def find_divisible_pair(numbers):\n",
    "    \n",
    "    pairs = [(x,y) for x in numbers for y in numbers if x <> y]\n",
    "    \n",
    "    for first,second in pairs:\n",
    "        if second % first == 0 or first % second == 0:           \n",
    "            return (max(first, second), min(first, second))\n",
    "        \n",
    "    raise ValueError(\"Could not find divisible pair\")"
   ]
  },
  {
   "cell_type": "markdown",
   "metadata": {},
   "source": [
    "### Divisible Checksum\n",
    "\n",
    "Find all the divisible pairs and add up all their quotients as required by part 2."
   ]
  },
  {
   "cell_type": "code",
   "execution_count": null,
   "metadata": {
    "collapsed": true
   },
   "outputs": [],
   "source": [
    "def compute_divisible_checksum(spreadsheet):\n",
    "    \n",
    "    sum = 0\n",
    "    \n",
    "    for row in spreadsheet:\n",
    "        (first, second) = find_divisible_pair(row)\n",
    "               \n",
    "        sum = sum + (first / second)    \n",
    "    \n",
    "    return sum"
   ]
  },
  {
   "cell_type": "code",
   "execution_count": null,
   "metadata": {
    "collapsed": false
   },
   "outputs": [],
   "source": [
    "def solve_part_one():\n",
    "\n",
    "    spreadsheet = read_spreadsheet()\n",
    "\n",
    "    print compute_range_checksum(spreadsheet)"
   ]
  },
  {
   "cell_type": "code",
   "execution_count": null,
   "metadata": {
    "collapsed": false
   },
   "outputs": [],
   "source": [
    "def solve_part_two():\n",
    "    spreadsheet = read_spreadsheet()\n",
    "    \n",
    "    print compute_divisible_checksum(spreadsheet)"
   ]
  },
  {
   "cell_type": "code",
   "execution_count": null,
   "metadata": {
    "collapsed": false
   },
   "outputs": [],
   "source": [
    "solve_part_one()\n",
    "solve_part_two()"
   ]
  }
 ],
 "metadata": {
  "anaconda-cloud": {},
  "kernelspec": {
   "display_name": "Python [Root]",
   "language": "python",
   "name": "Python [Root]"
  },
  "language_info": {
   "codemirror_mode": {
    "name": "ipython",
    "version": 2
   },
   "file_extension": ".py",
   "mimetype": "text/x-python",
   "name": "python",
   "nbconvert_exporter": "python",
   "pygments_lexer": "ipython2",
   "version": "2.7.12"
  }
 },
 "nbformat": 4,
 "nbformat_minor": 0
}
