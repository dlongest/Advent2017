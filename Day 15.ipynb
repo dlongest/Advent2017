{
 "cells": [
  {
   "cell_type": "markdown",
   "metadata": {},
   "source": [
    "# Advent of Code Day 15\n",
    "\n",
    "For Day 15, we have to create 2 distinct numeric generators.  They both start from a different value and generate new values by mulitplying their last value against a fixed factor and then taking a remainder from another fixed value.  For part one, the goal is to run 40 million iterations of pairing up values from each generator and keeping track of how many times the 16 least significant bits are exactly equal.  In part two, the generators get a filter wherein they only return a value to the caller if it satisfifes some condition (for one generator it's the value is a multiple of 4, for the other a multiple of 8).  I did a lot of bitmasks to solve this one.  To keep only the least significant 16 bits, one easy way is to just bitwise AND the value against 2^16-1, or 65535.  This keeps only those bits from the original value that are within those 16 bits.  After the bitwise AND on both values, a simple comparison is all that's needed.  That takes cares of part one. For part two, each generator needs a way to determine if a value should be returned or not.  A value is a multiple of 4 if its 2 least significant digits are a divisible by 4 (i.e. 124 is but 130 is not). If the last 3 digits are divisble by 8, then the value is divisible by 8.  The generators are just handed a lambda to handle that duty.  \n",
    "\n",
    "The Generator class is my first opportunity to use the __call__  dunder.  It doesn't come up much, but in this case, it made no sense for the Generator to have a method name since its entire purpose was producing values so __call__ felt like the right use here. \n"
   ]
  },
  {
   "cell_type": "code",
   "execution_count": null,
   "metadata": {
    "collapsed": false
   },
   "outputs": [],
   "source": [
    "class Generator(object):\n",
    "    \n",
    "    def __init__(self, initial_value, factor, value_filter = None):        \n",
    "        self.factor = factor\n",
    "        self.last_value = initial_value\n",
    "        self.initial_value = initial_value\n",
    "        self.divisor = 2147483647\n",
    "        self.value_filter = value_filter if value_filter else lambda x: True\n",
    "    \n",
    "    def __call__(self):\n",
    "        new_value = (self.last_value * self.factor) % self.divisor\n",
    "        \n",
    "        while not self.value_filter(new_value):\n",
    "            new_value = (new_value * self.factor) % self.divisor\n",
    "        \n",
    "        self.last_value = new_value\n",
    "                \n",
    "        return new_value\n",
    "\n",
    "    def reset(self):\n",
    "        self.last_value = self.initial_value        "
   ]
  },
  {
   "cell_type": "code",
   "execution_count": null,
   "metadata": {
    "collapsed": false
   },
   "outputs": [],
   "source": [
    "def judge(generator_a, generator_b, pair_count):\n",
    "    \n",
    "    count = 0\n",
    "    \n",
    "    for _ in range(0, pair_count):\n",
    "        \n",
    "        a = generator_a()        \n",
    "        b = generator_b()\n",
    "              \n",
    "        if (65535 & a) == (65535 & b):            \n",
    "            count +=1            \n",
    "    \n",
    "    print 'Matches = {}'.format(count)  \n"
   ]
  },
  {
   "cell_type": "code",
   "execution_count": null,
   "metadata": {
    "collapsed": false
   },
   "outputs": [],
   "source": [
    "def solve_sample_two():\n",
    "    a = Generator(65, 16807, lambda x: 99 & x % 4 == 0)\n",
    "    b = Generator(8921, 48271, lambda x: 999 & x % 8 == 0)\n",
    "    \n",
    "    judge(a, b, 1056)\n",
    "\n",
    "def solve_part_one():\n",
    "    a = Generator(783, 16807)\n",
    "    b = Generator(325, 48271)\n",
    "\n",
    "    judge(a, b, 40000000)\n",
    "\n",
    "def solve_part_two():\n",
    "    a = Generator(783, 16807, lambda x: 99 & x % 4 == 0)\n",
    "    b = Generator(325, 48271, lambda x: 999 & x % 8 == 0)\n",
    "\n",
    "    judge(a, b, 5000000)\n",
    "    "
   ]
  },
  {
   "cell_type": "code",
   "execution_count": null,
   "metadata": {
    "collapsed": true
   },
   "outputs": [],
   "source": []
  }
 ],
 "metadata": {
  "anaconda-cloud": {},
  "kernelspec": {
   "display_name": "Python [Root]",
   "language": "python",
   "name": "Python [Root]"
  },
  "language_info": {
   "codemirror_mode": {
    "name": "ipython",
    "version": 2
   },
   "file_extension": ".py",
   "mimetype": "text/x-python",
   "name": "python",
   "nbconvert_exporter": "python",
   "pygments_lexer": "ipython2",
   "version": "2.7.12"
  }
 },
 "nbformat": 4,
 "nbformat_minor": 0
}
