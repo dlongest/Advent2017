{
 "cells": [
  {
   "cell_type": "markdown",
   "metadata": {},
   "source": [
    "# Advent of Code Day 22\n",
    "\n",
    "For Day 22, we need to simulate a viral infection.  We start with a grid of nodes that are either infected or clean and then the virus moves around the grid infecting or cleaning nodes (part one).  In part two, there are additional states of infection and the movements are different for each type.  The solution in this Notebook is only for part two since there wasn't an elegant way to model the two within one class. "
   ]
  },
  {
   "cell_type": "code",
   "execution_count": 160,
   "metadata": {
    "collapsed": true
   },
   "outputs": [],
   "source": [
    "from utils import read_input\n",
    "from enum import Enum"
   ]
  },
  {
   "cell_type": "code",
   "execution_count": 171,
   "metadata": {
    "collapsed": false
   },
   "outputs": [],
   "source": [
    "class InfectionStatus(Enum):\n",
    "    WEAKENED = 1\n",
    "    INFECTED = 2\n",
    "    FLAGGED = 3\n",
    "\n",
    "class Grid(object):\n",
    "    \n",
    "    def __init__(self, rows):\n",
    "           \n",
    "        if len(rows) != len(rows[0]):\n",
    "            raise ValueError('rows must be 2D matrix with same dimensions')\n",
    "        \n",
    "        self.direction = 'U'\n",
    "        self.infected = {}\n",
    "        self.current_x = 0\n",
    "        self.current_y = 0\n",
    "        self.infection_count = 0\n",
    "        \n",
    "        center_index = int(round(len(rows) / 2))\n",
    "        \n",
    "        for row_index, row in enumerate(rows):\n",
    "            for column_index, value in enumerate(row):\n",
    "                if value == '#':\n",
    "                    self.infected[(column_index - center_index, center_index - row_index)] = InfectionStatus.INFECTED\n",
    "    \n",
    "    def simulate(self, bursts):\n",
    "        \n",
    "        for _ in xrange(0, bursts):\n",
    "            self.tick()\n",
    "            \n",
    "        \n",
    "    def tick(self):\n",
    "        self.change_direction()\n",
    "        \n",
    "        self.infect_or_clean()\n",
    "        \n",
    "        self.move()        \n",
    "    \n",
    "    \n",
    "    def change_direction(self):\n",
    "        \n",
    "        # If the node we're on is currently clean (which we use to mean it's not in self.infected at all), \n",
    "        # we turn left\n",
    "        if (self.current_x, self.current_y) not in self.infected:\n",
    "            self.direction = self.turn_left()\n",
    "            return\n",
    "        \n",
    "        current_status = self.infected[(self.current_x, self.current_y)]\n",
    "        \n",
    "        if current_status == InfectionStatus.WEAKENED:\n",
    "            pass # if the current node is weakened, we don't turn at all\n",
    "        elif current_status == InfectionStatus.INFECTED:\n",
    "            self.direction = self.turn_right()\n",
    "        elif current_status == InfectionStatus.FLAGGED:\n",
    "            self.direction = self.turn_around()\n",
    "        \n",
    "            \n",
    "    def infect_or_clean(self):\n",
    "        \n",
    "        current = (self.current_x, self.current_y)\n",
    "        \n",
    "        if current not in self.infected:\n",
    "            self.infected[current] = InfectionStatus.WEAKENED\n",
    "        elif self.infected[current] == InfectionStatus.WEAKENED:\n",
    "            self.infected[current] = InfectionStatus.INFECTED\n",
    "            self.infection_count += 1\n",
    "        elif self.infected[current] == InfectionStatus.INFECTED:\n",
    "            self.infected[current] = InfectionStatus.FLAGGED\n",
    "        elif self.infected[current] == InfectionStatus.FLAGGED:\n",
    "            del self.infected[current]\n",
    "      \n",
    "            \n",
    "    def move(self):\n",
    "        if self.direction == 'U':\n",
    "            self.current_y += 1\n",
    "        elif self.direction == 'D':\n",
    "            self.current_y -= 1\n",
    "        elif self.direction == 'L':\n",
    "            self.current_x -= 1\n",
    "        elif self.direction == 'R':\n",
    "            self.current_x += 1\n",
    "        else:\n",
    "            raise ValueError('Not sure which direction to move')\n",
    "        \n",
    "    \n",
    "    def turn_left(self):\n",
    "        if self.direction == 'U':\n",
    "            return 'L'\n",
    "        elif self.direction == 'R':\n",
    "            return 'U'\n",
    "        elif self.direction == 'D':\n",
    "            return 'R'\n",
    "        elif self.direction == 'L':\n",
    "            return 'D'\n",
    "        else:\n",
    "            raise ValueError('I can\\'t figure out which way to turn')\n",
    "        \n",
    "    def turn_right(self):\n",
    "        if self.direction == 'U':\n",
    "            return 'R'\n",
    "        elif self.direction == 'R':\n",
    "            return 'D'\n",
    "        elif self.direction == 'D':\n",
    "            return 'L'\n",
    "        elif self.direction == 'L':\n",
    "            return 'U'\n",
    "        else:\n",
    "            raise ValueError('I can\\'t figure out which way to turn')\n",
    "            \n",
    "    def turn_around(self):\n",
    "        if self.direction == 'U':\n",
    "            return 'D'\n",
    "        elif self.direction == 'D':\n",
    "            return 'U'\n",
    "        elif self.direction == 'L':\n",
    "            return 'R'\n",
    "        elif self.direction == 'R':\n",
    "            return 'L'\n",
    "        else:\n",
    "            raise ValueError('I can\\'t figure out which way to turn')\n",
    "    \n",
    "    def display(self, bounding_box = None):\n",
    "        \n",
    "        if bounding_box == None:\n",
    "            ((top_left_x, top_left_y), (bottom_right_x, bottom_right_y)) = self._bounding_box()\n",
    "        else:\n",
    "            ((top_left_x, top_left_y), (bottom_right_x, bottom_right_y)) = bounding_box\n",
    "                   \n",
    "        for y in xrange(top_left_y, bottom_right_y - 1, -1):\n",
    "            \n",
    "            row = []\n",
    "         \n",
    "            for x in xrange(top_left_x, bottom_right_x + 1):            \n",
    "                \n",
    "                if (x, y) not in self.infected:\n",
    "                    ch = '.'\n",
    "                elif self.infected[(x, y)] == InfectionStatus.WEAKENED:\n",
    "                    ch = 'W'\n",
    "                elif self.infected[(x, y)] == InfectionStatus.INFECTED:\n",
    "                    ch = '#'\n",
    "                elif self.infected[(x, y)] == InfectionStatus.FLAGGED:\n",
    "                    ch = 'F'              \n",
    "                row.append(ch)\n",
    "            \n",
    "            print ''.join(row)\n",
    "        \n",
    "         \n",
    "    def _bounding_box(self):\n",
    "        min_x = min([x for (x, y) in self.infected])\n",
    "        max_x = max([x for (x, y) in self.infected])\n",
    "        min_y = min([y for (x, y) in self.infected])\n",
    "        max_y = max([y for (x, y) in self.infected])\n",
    "        \n",
    "        overall_min = min(min_x, min_y)\n",
    "        overall_max = max(min_x, max_y)\n",
    "                  \n",
    "        return ((overall_min, overall_max), (overall_max, overall_min))\n",
    "        \n",
    "        \n",
    "        \n"
   ]
  },
  {
   "cell_type": "code",
   "execution_count": 197,
   "metadata": {
    "collapsed": false
   },
   "outputs": [],
   "source": [
    "def solve_sample():\n",
    "    initial = ['..#', '#..', '...']\n",
    "\n",
    "    grid = Grid(initial)\n",
    "\n",
    "    grid.display(((-4, 4), (4, -4)))\n",
    "\n",
    "    grid.simulate(10000000)\n",
    "\n",
    "    grid.infection_count"
   ]
  },
  {
   "cell_type": "code",
   "execution_count": 195,
   "metadata": {
    "collapsed": true
   },
   "outputs": [],
   "source": [
    "def solve_part_two():\n",
    "    \n",
    "    rows = read_input('Input/day22.txt')\n",
    "    \n",
    "    grid = Grid(rows)\n",
    "    \n",
    "    grid.simulate(10000000)\n",
    "    \n",
    "    print grid.infection_count\n",
    "    "
   ]
  },
  {
   "cell_type": "code",
   "execution_count": 196,
   "metadata": {
    "collapsed": false
   },
   "outputs": [
    {
     "name": "stdout",
     "output_type": "stream",
     "text": [
      "2511672\n"
     ]
    }
   ],
   "source": [
    "solve_part_two()"
   ]
  },
  {
   "cell_type": "code",
   "execution_count": null,
   "metadata": {
    "collapsed": true
   },
   "outputs": [],
   "source": []
  }
 ],
 "metadata": {
  "kernelspec": {
   "display_name": "Python [Root]",
   "language": "python",
   "name": "Python [Root]"
  },
  "language_info": {
   "codemirror_mode": {
    "name": "ipython",
    "version": 2
   },
   "file_extension": ".py",
   "mimetype": "text/x-python",
   "name": "python",
   "nbconvert_exporter": "python",
   "pygments_lexer": "ipython2",
   "version": "2.7.12"
  }
 },
 "nbformat": 4,
 "nbformat_minor": 0
}
