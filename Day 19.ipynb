{
 "cells": [
  {
   "cell_type": "markdown",
   "metadata": {},
   "source": [
    "# Advent of Code Day 19\n",
    "\n",
    "Day 19 is a straight-forward path walker.  Given a diagram, walk the path from start to finish, determining which letters are encountered (part one) or how many steps are taken (part two) prior to reaching the exit.  The path has a very simple rule: you always walk forward until you encounter a +, at which point there's one (and only one) way to turn to continue the walk.  The paths may cross each other but the + is the only signal that one should turn - it only takes a little effort to figure out the correct direction to turn at that point.  "
   ]
  },
  {
   "cell_type": "code",
   "execution_count": null,
   "metadata": {
    "collapsed": true
   },
   "outputs": [],
   "source": [
    "from utils import read_input"
   ]
  },
  {
   "cell_type": "markdown",
   "metadata": {},
   "source": [
    "### Find Start\n",
    "\n",
    "The start coordinate is the only | character in the topmost \"row\" of the diagram"
   ]
  },
  {
   "cell_type": "code",
   "execution_count": null,
   "metadata": {
    "collapsed": false
   },
   "outputs": [],
   "source": [
    "def find_start(diagram):\n",
    "    top_row = diagram[0]\n",
    "    \n",
    "    index = top_row.index('|')\n",
    "    \n",
    "    return (0, index)"
   ]
  },
  {
   "cell_type": "markdown",
   "metadata": {},
   "source": [
    "### Path Functions\n",
    "\n",
    "At makes it slightly easier to look up the value of some position in the diagram. \n",
    "\n",
    "Move_me takes the diagram, current location, and direction and returns the next coordinate in that direction.\n",
    "\n",
    "Which_way_should_I_turn takes the diagram, current location, and direction, and returns the new direction code following the turn.  Returns the direction argument if the current position is not +, though the caller should check that condition first."
   ]
  },
  {
   "cell_type": "code",
   "execution_count": null,
   "metadata": {
    "collapsed": false
   },
   "outputs": [],
   "source": [
    "def at(diagram, current):\n",
    "    return diagram[current[0]][current[1]]\n",
    "\n",
    "def move_me(diagram, current, direction):\n",
    "    if direction == 'D':\n",
    "        return (current[0] + 1, current[1])\n",
    "    elif direction == 'U':\n",
    "        return (current[0] - 1, current[1])\n",
    "    elif direction == 'R':\n",
    "        return (current[0], current[1] + 1)\n",
    "    elif direction == 'L':\n",
    "        return (current[0], current[1] - 1)\n",
    "    else:\n",
    "        raise ValueError('Direction {} not recognized'.format(direction))\n",
    "\n",
    "def which_way_should_i_turn(diagram, current, direction):\n",
    "    if at(diagram, current) != '+':\n",
    "        return direction\n",
    "    \n",
    "    if direction in ('D','U'):\n",
    "        if at(diagram, (current[0], current[1] + 1)) == ' ':\n",
    "            return 'L'\n",
    "        else:\n",
    "            return 'R'\n",
    "    elif direction in ('L', 'R'):\n",
    "        if at(diagram, (current[0] - 1, current[1])) == ' ':\n",
    "            return 'D'\n",
    "        else:\n",
    "            return 'U'\n",
    "    else:\n",
    "        raise ValueError('Direction {} not recognized'.format(direction))     \n",
    "    \n",
    "def is_standing_on_letter(diagram, current):\n",
    "    return at(diagram, current).isalpha()"
   ]
  },
  {
   "cell_type": "markdown",
   "metadata": {},
   "source": [
    "### Solve\n",
    "\n",
    "The actual pathing is a relatively straight-forward affair. Until a space character is encountered, either move in the current direction or adjust the direction. If you step on a letter, keep track of it.  Keep track of the number of steps taken until the end is reached."
   ]
  },
  {
   "cell_type": "code",
   "execution_count": null,
   "metadata": {
    "collapsed": false
   },
   "outputs": [],
   "source": [
    "def solve():\n",
    "    diagram = read_input('Input/day19.txt')    \n",
    "    found = []\n",
    "    \n",
    "    start = find_start(diagram)\n",
    "    current = start\n",
    "    direction = 'D'\n",
    "    steps = 0\n",
    "\n",
    "    while at(diagram, current) != ' ':\n",
    "\n",
    "        current = move_me(diagram, current, direction)\n",
    "        steps += 1\n",
    "\n",
    "        if at(diagram, current) == '+':\n",
    "            direction = which_way_should_i_turn(diagram, current, direction)\n",
    "        elif is_standing_on_letter(diagram, current):\n",
    "            found.append(at(diagram, current))\n",
    "\n",
    "\n",
    "    print 'Found = {}'.format(''.join(found))\n",
    "    print 'Steps = {}'.format(steps)"
   ]
  }
 ],
 "metadata": {
  "kernelspec": {
   "display_name": "Python [Root]",
   "language": "python",
   "name": "Python [Root]"
  },
  "language_info": {
   "codemirror_mode": {
    "name": "ipython",
    "version": 2
   },
   "file_extension": ".py",
   "mimetype": "text/x-python",
   "name": "python",
   "nbconvert_exporter": "python",
   "pygments_lexer": "ipython2",
   "version": "2.7.12"
  }
 },
 "nbformat": 4,
 "nbformat_minor": 0
}
