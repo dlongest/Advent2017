{
 "cells": [
  {
   "cell_type": "markdown",
   "metadata": {},
   "source": [
    "# Advent of Code Day 5\n",
    "\n",
    "In Day 5, the objective is to determine when some batch of jump instructions will finally terminate.  The input is a set of integers (positive and negative) that represent jumps within that same set of instructions.  You read the instruction, which specifies how far to jump to reach the next instruction (forward or backward) within that same set.  After the jump but before execution of the next instruction, the prior jump is adjusted.  In part one, it's adjusted by adding 1.  In part two, it is decremented if the jump is greater than 2, otherwise incremented.  In both cases, the output is how many steps it takes to finally move beyond the end of the instruction set."
   ]
  },
  {
   "cell_type": "code",
   "execution_count": null,
   "metadata": {
    "collapsed": true
   },
   "outputs": [],
   "source": [
    "from utils import read_input"
   ]
  },
  {
   "cell_type": "markdown",
   "metadata": {},
   "source": [
    "### How Many Steps\n",
    "\n",
    "The template for processing instructions is contained in this one method.  It uses a function argument to determine which offset policy should be applied - in part one, that policy simply increments the last instruction by 1 while in part two, its value is conditional on the current instruction value.  A simple enough thing to put together. \n",
    "\n"
   ]
  },
  {
   "cell_type": "code",
   "execution_count": null,
   "metadata": {
    "collapsed": true
   },
   "outputs": [],
   "source": [
    "def how_many_steps(instructions, offset_policy = None):\n",
    "    if offset_policy == None:\n",
    "        offset_policy = increment_offset_policy\n",
    "        \n",
    "    current_index = 0\n",
    "    steps = 0\n",
    "    \n",
    "    while current_index < len(instructions):\n",
    "        offset = instructions[current_index]\n",
    "        next_index = current_index + offset\n",
    "        instructions[current_index] = offset_policy(offset)\n",
    "        current_index = next_index\n",
    "        steps +=1\n",
    "        \n",
    "    return steps"
   ]
  },
  {
   "cell_type": "markdown",
   "metadata": {},
   "source": [
    "### Increment Offset Policy\n",
    "\n",
    "Given some offset (presumably the most recent one), returns that offset value + 1, to reflect the rules of part one."
   ]
  },
  {
   "cell_type": "code",
   "execution_count": null,
   "metadata": {
    "collapsed": true
   },
   "outputs": [],
   "source": [
    "def increment_offset_policy(last_offset):    \n",
    "    return last_offset + 1"
   ]
  },
  {
   "cell_type": "markdown",
   "metadata": {},
   "source": [
    "### Bidirectional Offset Policy\n",
    "\n",
    "Given some offset, returns that offset value - 1 if it's greater than or equal to 3, otherwise returns offset + 1. This reflects the rules in part two."
   ]
  },
  {
   "cell_type": "code",
   "execution_count": null,
   "metadata": {
    "collapsed": true
   },
   "outputs": [],
   "source": [
    "def bidirectional_offset_policy(last_offset):\n",
    "    if last_offset >= 3:\n",
    "        return last_offset - 1\n",
    "    else:\n",
    "        return last_offset + 1"
   ]
  },
  {
   "cell_type": "code",
   "execution_count": null,
   "metadata": {
    "collapsed": true
   },
   "outputs": [],
   "source": [
    "def solve_part_one():\n",
    "    instructions = read_input('Input/day5.txt', lambda x: int(x))\n",
    "    \n",
    "    print 'Steps To Reach End = {}'.format(how_many_steps(instructions, increment_offset_policy))\n",
    "    "
   ]
  },
  {
   "cell_type": "code",
   "execution_count": null,
   "metadata": {
    "collapsed": false
   },
   "outputs": [],
   "source": [
    "def solve_part_two():\n",
    "    instructions = read_input('Input/day5.txt', lambda x: int(x))\n",
    "    \n",
    "    print 'Steps To Reach End = {}'.format(how_many_steps(instructions, bidirectional_offset_policy))"
   ]
  },
  {
   "cell_type": "code",
   "execution_count": null,
   "metadata": {
    "collapsed": false
   },
   "outputs": [],
   "source": [
    "solve_part_one()"
   ]
  },
  {
   "cell_type": "code",
   "execution_count": null,
   "metadata": {
    "collapsed": false
   },
   "outputs": [],
   "source": [
    "solve_part_two()"
   ]
  },
  {
   "cell_type": "code",
   "execution_count": null,
   "metadata": {
    "collapsed": true
   },
   "outputs": [],
   "source": []
  }
 ],
 "metadata": {
  "anaconda-cloud": {},
  "kernelspec": {
   "display_name": "Python [Root]",
   "language": "python",
   "name": "Python [Root]"
  },
  "language_info": {
   "codemirror_mode": {
    "name": "ipython",
    "version": 2
   },
   "file_extension": ".py",
   "mimetype": "text/x-python",
   "name": "python",
   "nbconvert_exporter": "python",
   "pygments_lexer": "ipython2",
   "version": "2.7.12"
  }
 },
 "nbformat": 4,
 "nbformat_minor": 0
}
