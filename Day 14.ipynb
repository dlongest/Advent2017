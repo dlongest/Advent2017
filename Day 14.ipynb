{
 "cells": [
  {
   "cell_type": "markdown",
   "metadata": {},
   "source": [
    "# Advent of Code Day 14\n",
    "\n",
    "Day 14 partially simulates a disk defragmenter.  In part one, we use the Knot Hash from Day 10 to produce a 128x128 grid.  To do so, we were given some input (as a string) and had to knot hash that value along with a row number.  After genering the knot hash, it was converted into a a binary representation (128 bits per row) where each 1 bit is a used square in the disk and each 0 bit is free.  Part one was concluded after figuring out how many used squares were in the disk.  For part two, we had to sweep the disk idenitfying contiguous regions of used squares and determine how many distinct regions were represented on the disk"
   ]
  },
  {
   "cell_type": "code",
   "execution_count": null,
   "metadata": {
    "collapsed": true
   },
   "outputs": [],
   "source": [
    "from knothash import KnotHash # the KnotHash class from Day 10 I moved to its own module"
   ]
  },
  {
   "cell_type": "markdown",
   "metadata": {},
   "source": [
    "### Part One Helper Functions\n",
    "\n",
    "To assist with part 1, it was necessary to define a few extra functions around KnotHash.  One, since KnotHash produces a hexadecimal version of the hash, I wrote a function to take that hexadecimal value and convert it to a binary string.  This is simple enough in Python, but I thought there was value in putting it behind a function so I could give it a meaningful name.  Also hex2bin takes care of padding the string (which it needs to be out to 128 to satisfy the problem ultimately). \n",
    "\n",
    "To keep KnotHash and Disk decoupled, I wrote a method to generate the binary string hashes for all the input rules using KnotHash.  The caller (can then create the Disk from that input)."
   ]
  },
  {
   "cell_type": "code",
   "execution_count": null,
   "metadata": {
    "collapsed": true
   },
   "outputs": [],
   "source": [
    "def hex2bin(hex_value, pad = 0):\n",
    "    binary = '{0:b}'.format(int(hex_value, 16))\n",
    "    \n",
    "    return binary.zfill(pad)    \n",
    "\n",
    "\n",
    "\n",
    "def compute_rowwise_binary_hashes(key_string_format):\n",
    "    \"\"\" Given a string format that contains the key string plus a single format placeholder for substituting the iteration,\n",
    "        returns an array of binary strings.  That is, each binary string is a binary number that corresponds to the hash\n",
    "        computed from a distinct input.  Each binary string is intended to represent a row within a compute disk grid. \n",
    "        It will be in the form ['101001001011', '010101001100',....]\n",
    "    \"\"\"\n",
    "    binary_hashes = []\n",
    "    for row in range(0, 128):\n",
    "        key_string = key_string_format.format(row)\n",
    "        lengths = [ord(i) for i in key_string] + [17, 31, 73, 47, 23]\n",
    "\n",
    "        knot_hash = KnotHash(range(0, 256), lengths)\n",
    "\n",
    "        hashed = knot_hash.hex_hash(64, 16)\n",
    "\n",
    "        binary_hashes.append(hex2bin(hashed, pad = 128))\n",
    "        \n",
    "    return binary_hashes"
   ]
  },
  {
   "cell_type": "markdown",
   "metadata": {},
   "source": [
    "### Disk\n",
    "\n",
    "Disk represents the 128x128 grid of used or free squares, primarily for part two.  It takes a collectoin of binary strings as input and stores those as a grid.  You can then use mark_regions to sweep the grid and put them into regions.  This version is crude and does not keep track of which squares are in which regions, it only keeps track of the number of regions.  Tracking the specific squares per region would be very easy though: just need to alter mark_regions to use a new dictionary to map a unique region number to the region squares.  \n",
    "\n",
    "This was my first time experimenting with a few Python concepts:  __getitem__ and __setitem__.  I started with a function called at that took a coordinate tuple, but figured out the Pythonic way is with the get and set item dunders so I changed to using those.  My getitem is simplified and only allows a tuple and no slices, which is sufficient for this use case. "
   ]
  },
  {
   "cell_type": "code",
   "execution_count": null,
   "metadata": {
    "collapsed": false
   },
   "outputs": [],
   "source": [
    "class Disk(object):\n",
    "      \n",
    "    def __init__(self, binary_string_grid):\n",
    "        self.grid =[]\n",
    "    \n",
    "        for binary_hash in binary_string_grid:\n",
    "            self.grid.append(['#' if b=='1' else '.' for b in binary_hash])\n",
    "        \n",
    "        self._top_left = (0, 0)\n",
    "        self._bottom_right = (len(self.grid)-1, len(self.grid[0])-1)\n",
    "        \n",
    "        self._grid_size = self._bottom_right[0] - self._top_left[0] + 1\n",
    "        self.region_count = 0\n",
    "    \n",
    "    def display(self):\n",
    "           \n",
    "        for row in self.grid:\n",
    "            print ''.join(row)    \n",
    "  \n",
    "    def __getitem__(self, key):\n",
    "        if isinstance(key, tuple):           \n",
    "            return self.grid[key[0]][key[1]]\n",
    "        else:           \n",
    "            raise ValueError('__getitem__requires a (row, col) tuple')\n",
    "    \n",
    "    def __setitem__(self, key, value):   \n",
    "            self.grid[key[0]][key[1]] = value\n",
    "    \n",
    "    def mark_regions(self):\n",
    "       \n",
    "        for row_index in range(0, self._grid_size):\n",
    "            for col_index in range(0, self._grid_size):\n",
    "                region_squares = self._mark_region((row_index, col_index), '*')\n",
    "                \n",
    "                if region_squares:\n",
    "                    self.region_count += 1\n",
    "      \n",
    "\n",
    "    def _mark_region(self, start_square, region_symbol):\n",
    "        if self[start_square] != '#':\n",
    "            return []\n",
    "        \n",
    "        region_squares = self._find_adjacent_unmarked_squares(start_square)\n",
    "       \n",
    "        for square in region_squares:\n",
    "            self[square] = region_symbol\n",
    "            \n",
    "        return region_squares\n",
    "       \n",
    "    def _find_adjacent_unmarked_squares(self, square):\n",
    "        \n",
    "        if self[square] != '#':\n",
    "            return set([])\n",
    "\n",
    "        squares_to_mark = set([square])\n",
    "\n",
    "        adjacent_squares = self._get_adjacent_squares(square)\n",
    "              \n",
    "        while adjacent_squares:\n",
    "            possible_square = adjacent_squares.pop()\n",
    "           \n",
    "            if self[possible_square] == '#':\n",
    "                squares_to_mark.add(possible_square)\n",
    "               \n",
    "                adjacent_to_possible = self._get_adjacent_squares(possible_square)\n",
    "                \n",
    "                adjacent_squares = adjacent_squares.union(adjacent_to_possible).difference(squares_to_mark)\n",
    "\n",
    "        return squares_to_mark\n",
    "        \n",
    "    \n",
    "    def _get_adjacent_squares(self, square):       \n",
    "    \n",
    "        adjacent = []\n",
    "\n",
    "        adjacent.append((square[0] - 1, square[1]))\n",
    "        adjacent.append((square[0] + 1, square[1]))\n",
    "        adjacent.append((square[0], square[1] - 1))\n",
    "        adjacent.append((square[0], square[1] + 1))\n",
    "        \n",
    "        return set(self._clip(adjacent))\n",
    "    \n",
    "    def _clip(self, squares):        \n",
    "        return [(x, y) for (x,y) in squares if (x >= self._top_left[0] and x <= self._bottom_right[0]) \\\n",
    "                                                 and (y >= self._top_left[1] and y <= self._bottom_right[1]) ]\n",
    "    "
   ]
  },
  {
   "cell_type": "code",
   "execution_count": null,
   "metadata": {
    "collapsed": false
   },
   "outputs": [],
   "source": [
    "def solve_part_one():\n",
    "    \n",
    "    rows = compute_rowwise_binary_hashes('jzgqcdpd-{}')\n",
    "    \n",
    "    print as_grid(rows)\n",
    "    \n",
    "    used = sum([1 if s =='1' else 0 for row in rows for s in str(row) ])   \n",
    "        \n",
    "    print 'Used squares = {}'.format(used)\n",
    "    \n",
    "def solve_part_two():\n",
    "    rows = compute_rowwise_binary_hashes('jzgqcdpd-{}')\n",
    "    \n",
    "    disk = Disk(rows)\n",
    "    \n",
    "    disk.mark_regions()\n",
    "    \n",
    "    print 'Region Count = {}'.format(disk.region_count)"
   ]
  },
  {
   "cell_type": "code",
   "execution_count": null,
   "metadata": {
    "collapsed": false
   },
   "outputs": [],
   "source": [
    "solve_part_two()"
   ]
  },
  {
   "cell_type": "code",
   "execution_count": null,
   "metadata": {
    "collapsed": true
   },
   "outputs": [],
   "source": []
  }
 ],
 "metadata": {
  "kernelspec": {
   "display_name": "Python [Root]",
   "language": "python",
   "name": "Python [Root]"
  },
  "language_info": {
   "codemirror_mode": {
    "name": "ipython",
    "version": 2
   },
   "file_extension": ".py",
   "mimetype": "text/x-python",
   "name": "python",
   "nbconvert_exporter": "python",
   "pygments_lexer": "ipython2",
   "version": "2.7.12"
  }
 },
 "nbformat": 4,
 "nbformat_minor": 0
}
