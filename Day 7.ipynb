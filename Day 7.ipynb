{
 "cells": [
  {
   "cell_type": "markdown",
   "metadata": {
    "collapsed": true
   },
   "source": [
    "# Advent of Code Day 7\n",
    "\n",
    "On Day 7, we need to determine the base tower in a graph-style configuration (part one) and then find the imbalanced tower within the graph (part two).  "
   ]
  },
  {
   "cell_type": "code",
   "execution_count": null,
   "metadata": {
    "collapsed": true
   },
   "outputs": [],
   "source": [
    "from utils import read_input"
   ]
  },
  {
   "cell_type": "code",
   "execution_count": null,
   "metadata": {
    "collapsed": true
   },
   "outputs": [],
   "source": [
    "def load_graph(filename):\n",
    "\n",
    "    import re\n",
    "    \n",
    "    bottom_pattern = re.compile('^.*?\\s+')\n",
    "    bottom_weight = re.compile('[0-9]+')\n",
    "    top_pattern = re.compile('(?<=->)(.+)$')\n",
    "    \n",
    "    dependencies = read_input(filename)\n",
    "    \n",
    "    weights = {}\n",
    "    graph = {}        \n",
    "    \n",
    "    for dep in dependencies:    \n",
    "        \n",
    "        tower = bottom_pattern.findall(dep)[0].strip()\n",
    "        weight = bottom_weight.findall(dep)[0]\n",
    "        top = top_pattern.findall(dep)\n",
    "        \n",
    "        graph[tower] = set([t.strip() for t in top[0].split(',')]) if top else set([])\n",
    "        weights[tower] = int(weight)      \n",
    "        \n",
    "    return Graph(graph, weights)"
   ]
  },
  {
   "cell_type": "code",
   "execution_count": null,
   "metadata": {
    "collapsed": true
   },
   "outputs": [],
   "source": [
    "class Graph(object):\n",
    "    \n",
    "    def __init__(self, adjacency_list, weights):\n",
    "        root_name = self._get_root(adjacency_list)\n",
    "        \n",
    "        self.root = Node(root_name, weights[root_name])\n",
    "        \n",
    "        parent = self.root       \n",
    "            \n",
    "        self._attach_child_nodes(self.root, adjacency_list, weights)\n",
    "    \n",
    "    def _attach_child_nodes(self, parent_node, adjacency_list, weights):\n",
    "        children = adjacency_list[parent_node.my_name()]\n",
    "        \n",
    "        for child in children:\n",
    "            child_node = Node(child, weights[child])\n",
    "            self._attach_child_nodes(child_node, adjacency_list, weights)            \n",
    "            parent_node.add_child(child_node)        \n",
    "      \n",
    "    def _get_root(self, adjacency_list):\n",
    "        # Combine all the referents together into one set\n",
    "        referents = reduce(lambda f, s: f.union(s), [v for k,v in adjacency_list.items()])\n",
    "    \n",
    "        # The bottom tower is the one that is in the graph but is not referenced (a referent)\n",
    "        return list(set(adjacency_list.keys()).difference(referents))[0]\n",
    "    \n",
    "\n",
    "class Node(object):\n",
    "    \n",
    "    def __init__(self, name, weight):\n",
    "        self._name = name\n",
    "        self._weight = weight\n",
    "        self.children = set([])\n",
    "    \n",
    "    def add_child(self, child_node):\n",
    "        self.children.add(child_node)    \n",
    "        \n",
    "    def my_name(self):\n",
    "        return self._name\n",
    "        \n",
    "    def my_weight(self):\n",
    "        return self._weight\n",
    "        \n",
    "    def weight(self):\n",
    "        child_weights = [c.weight() for c in self.children]\n",
    "        \n",
    "        return self._weight + sum(child_weights)\n",
    "   \n",
    "        "
   ]
  },
  {
   "cell_type": "code",
   "execution_count": null,
   "metadata": {
    "collapsed": false
   },
   "outputs": [],
   "source": [
    "def whose_on_bottom(graph):    \n",
    "    \n",
    "    # Combine all the referents together into one set\n",
    "    referents = reduce(lambda f, s: f.union(s), [v for k,v in graph.items()])\n",
    "    \n",
    "    # The bottom tower is the one that is in the graph but is not referenced (a referent)\n",
    "    return set(graph.keys()).difference(referents)    "
   ]
  },
  {
   "cell_type": "code",
   "execution_count": null,
   "metadata": {
    "collapsed": true
   },
   "outputs": [],
   "source": [
    "def visit(graph):\n",
    "    \n",
    "    def visit(node, level = 0):\n",
    "    \n",
    "        prefix = '\\t' * level\n",
    "    \n",
    "        weights = [c.weight() for c in node.children]\n",
    "        if weights != [] and len(set(weights)) > 1:\n",
    "            print '{}{} ({}) [{}]'.format(prefix, node.my_name(), node.my_weight(),  weights)\n",
    "        \n",
    "        for child in node.children:\n",
    "            visit(child, level + 1)\n",
    "            \n",
    "    visit(graph.root)\n"
   ]
  },
  {
   "cell_type": "code",
   "execution_count": null,
   "metadata": {
    "collapsed": false
   },
   "outputs": [],
   "source": [
    "g = load_graph('Input/day7.txt')\n",
    "\n",
    "visit(g)"
   ]
  },
  {
   "cell_type": "code",
   "execution_count": null,
   "metadata": {
    "collapsed": true
   },
   "outputs": [],
   "source": []
  }
 ],
 "metadata": {
  "kernelspec": {
   "display_name": "Python [Root]",
   "language": "python",
   "name": "Python [Root]"
  },
  "language_info": {
   "codemirror_mode": {
    "name": "ipython",
    "version": 2
   },
   "file_extension": ".py",
   "mimetype": "text/x-python",
   "name": "python",
   "nbconvert_exporter": "python",
   "pygments_lexer": "ipython2",
   "version": "2.7.12"
  }
 },
 "nbformat": 4,
 "nbformat_minor": 0
}
