{
 "cells": [
  {
   "cell_type": "markdown",
   "metadata": {},
   "source": [
    "# Advent of Code Day 12\n",
    "\n",
    "In Day 12, the objective is to determine group membership for a group of programs (indicated by some ID) that can communicate with each other.  The input is an adjacency list that links programs to each other.  All links are indicated to be bidirectional but the input file hard-codes such relationships.  In part one, the objective is to determine how many programs are in the group with program 0.  In part two, the objective is to determine how many distinct groups there are.\n",
    "\n",
    "This is an interesting problem with a lot of potential approaches.  One can take a graph-based approach and build out graphs corresponding to each group and then use normal graph methods to handle both parts.  That would work, but for me the mental model of this problem makes more sense if considered from a set perspective.  Simply put: we need to form the set of elements with connections for program 0 (part one) or form all the necessary sets out of the complete list of elements (part two). "
   ]
  },
  {
   "cell_type": "code",
   "execution_count": null,
   "metadata": {
    "collapsed": true
   },
   "outputs": [],
   "source": [
    "from utils import read_input"
   ]
  },
  {
   "cell_type": "markdown",
   "metadata": {},
   "source": [
    "### Adjacency List\n",
    "\n",
    "load_adjacency_list takes a collection of program connections in the form 'ID <-> ID1,ID2,...IDn.  Given that input, it returns a dictionary that maps ID to a set of related IDs.  This may not be the ideal way to load the input for this problem, but it will work for our purposes.  "
   ]
  },
  {
   "cell_type": "code",
   "execution_count": null,
   "metadata": {
    "collapsed": true
   },
   "outputs": [],
   "source": [
    "def load_adjacency_list(connections):\n",
    "    \n",
    "    adjacency_list = {}\n",
    "    \n",
    "    for connection in connections:\n",
    "    \n",
    "        tokens = connection.split('<->')    \n",
    "        referrer = int(tokens[0].strip())    \n",
    "        referents = [int(t) for t in tokens[1].split(',')]    \n",
    "        \n",
    "        adjacency_list[referrer] = set(referents)\n",
    "        \n",
    "    return adjacency_list"
   ]
  },
  {
   "cell_type": "markdown",
   "metadata": {},
   "source": [
    "### Make Group\n",
    "\n",
    "For a given program and adjacency list, return the set consisting of all programs that can communicate with each other based on program.  To do so, we use two sets.  One: the set that contains all found programs.  Two: for each interconnection we find, we add those programs to a \"search\" set if they haven't previously been found.  Then, we just iterate as long as there new program interconnections being found.  "
   ]
  },
  {
   "cell_type": "code",
   "execution_count": null,
   "metadata": {
    "collapsed": true
   },
   "outputs": [],
   "source": [
    "def make_group(program, adjacency_list):\n",
    "    search_values = adjacency_list[program]\n",
    "    group = set([])\n",
    "      \n",
    "    while search_values:       \n",
    "        value = search_values.pop()            \n",
    "        group.add(value)\n",
    "        to_add = [v for v in adjacency_list[value]]                  \n",
    "        search_values = search_values.union(to_add).difference(group)\n",
    "        \n",
    "    return group"
   ]
  },
  {
   "cell_type": "markdown",
   "metadata": {},
   "source": [
    "### Solve\n",
    "\n",
    "In part one, we load the adjacency list, then call make_group for program 0 and just output the size of that group.\n",
    "\n",
    "In part two, we load the adjacency list, but then we have to do a similar technique as make_group.  We start with the pool of all elements, then pick one randomly and form its group.  We save that group, then filter out our set of elements based on ones in the new group.  Then we repeat until all our elements have been placed into groups. "
   ]
  },
  {
   "cell_type": "code",
   "execution_count": null,
   "metadata": {
    "collapsed": false
   },
   "outputs": [],
   "source": [
    "def solve_part_one():\n",
    "    \n",
    "    adjacency_list =  load_adjacency_list(read_input('Input/day12.txt'))\n",
    "    \n",
    "    group = make_group(0, adjacency_list)\n",
    "    \n",
    "    print 'Group with program 0 has {} elements in it'.format(len(group))\n",
    "     \n",
    "    \n",
    "def solve_part_two():\n",
    "    adjacency_list =  load_adjacency_list(read_input('Input/day12.txt'))\n",
    "    \n",
    "    groups = []\n",
    "    elements_needing_groups = reduce(lambda a, b: a.union(b), adjacency_list.values())\n",
    "      \n",
    "    while elements_needing_groups:\n",
    "        program = elements_needing_groups.pop()\n",
    "        \n",
    "        next_group = make_group(program, adjacency_list)\n",
    "        elements_needing_groups = elements_needing_groups.difference(next_group)\n",
    "        groups.append(next_group)       \n",
    "  \n",
    "    print 'Total groups found = {}'.format(len(groups))   \n",
    "    "
   ]
  },
  {
   "cell_type": "code",
   "execution_count": null,
   "metadata": {
    "collapsed": false,
    "scrolled": true
   },
   "outputs": [],
   "source": [
    "solve_part_one()\n",
    "solve_part_two()"
   ]
  },
  {
   "cell_type": "code",
   "execution_count": null,
   "metadata": {
    "collapsed": true
   },
   "outputs": [],
   "source": []
  }
 ],
 "metadata": {
  "kernelspec": {
   "display_name": "Python [Root]",
   "language": "python",
   "name": "Python [Root]"
  },
  "language_info": {
   "codemirror_mode": {
    "name": "ipython",
    "version": 2
   },
   "file_extension": ".py",
   "mimetype": "text/x-python",
   "name": "python",
   "nbconvert_exporter": "python",
   "pygments_lexer": "ipython2",
   "version": "2.7.12"
  }
 },
 "nbformat": 4,
 "nbformat_minor": 0
}
