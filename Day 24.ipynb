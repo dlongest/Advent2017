{
 "cells": [
  {
   "cell_type": "markdown",
   "metadata": {},
   "source": [
    "# Advent of Code Day 24"
   ]
  },
  {
   "cell_type": "code",
   "execution_count": 1,
   "metadata": {
    "collapsed": true
   },
   "outputs": [],
   "source": [
    "from utils import read_input"
   ]
  },
  {
   "cell_type": "code",
   "execution_count": 73,
   "metadata": {
    "collapsed": false
   },
   "outputs": [],
   "source": [
    "class Component():\n",
    "    \n",
    "    @classmethod \n",
    "    def from_file(cls, filename):\n",
    "        return [Component.from_tuple(tuple([int(s) for s in  i.split('/')])) for i in read_input(filename)]\n",
    "    \n",
    "    @classmethod\n",
    "    def from_tuple(cls, component):\n",
    "        return cls(component)\n",
    "    \n",
    "    @classmethod\n",
    "    def from_string(cls, component):\n",
    "        left, right = str.split(component, '/')\n",
    "        return cls((left, right))\n",
    "    \n",
    "    def __init__(self, component):        \n",
    "        self.left, self.right = component\n",
    "    \n",
    "    def can_connect(self, port):\n",
    "        return self.left == port or self.right == port\n",
    "    \n",
    "    def can_connect_my_right_to_your_left(self, others):\n",
    "        return [o for o in others if self.right == o.left]        \n",
    "    \n",
    "    def flip(self):\n",
    "        self.left, self.right = self.right, self.left\n",
    "        \n",
    "        return self\n",
    "    \n",
    "    def flip_value_left(self, value):\n",
    "        if self.left == value:\n",
    "            return self\n",
    "        \n",
    "        if self.right == value:\n",
    "            self.left, self.right = self.right, self.left\n",
    "            return self\n",
    "        \n",
    "        raise 'No Idea'\n",
    "    \n",
    "    def __str__(self):\n",
    "        return str.format('{left}/{right}', left = self.left, right = self.right)\n",
    "    \n",
    "    def __repr__(self):\n",
    "        return str.format('{left}/{right}', left = self.left, right = self.right)\n",
    "    "
   ]
  },
  {
   "cell_type": "code",
   "execution_count": 77,
   "metadata": {
    "collapsed": false
   },
   "outputs": [],
   "source": [
    "def find_maximum_bridge(components):\n",
    "    \n",
    "    all_components = set(components) # the full list of all possible components\n",
    "    starting_components = find_component_containing(components, 0) # components we could start the bridge with i.e. have 0\n",
    "    \n",
    "    for start in starting_components:\n",
    "        start.flip_value_left(0)\n",
    "        print 'Start at {}'.format(start)\n",
    "        remaining_components = remove_and_copy(all_components, start)        \n",
    "        print 'Remaining: {}'.format(remaining_components)\n",
    "        bridge = find_maximum_bridge(start, [start], remaining_components)\n",
    "        print 'Bridge = {}'.format(bridge)\n",
    "        print '\\n\\n'\n",
    "\n",
    "\n",
    "def remove_and_copy(components, to_remove):    \n",
    "    c = components.copy()    \n",
    "    c.remove(to_remove)    \n",
    "    return set(c)    \n",
    "        \n",
    "    \n",
    "def find_maximum_bridge(current_component, bridge, remaining):\n",
    "    if not remaining:\n",
    "        return bridge   \n",
    "    \n",
    "    connectable = current_component.can_connect_my_right_to_your_left(remaining)\n",
    "    \n",
    "\n",
    "def compute_bridge_value(bridge):    \n",
    "    return sum([(a + b) for (a, b) in bridge])   \n",
    "    \n",
    "    \n",
    "    \n",
    "    "
   ]
  },
  {
   "cell_type": "code",
   "execution_count": 74,
   "metadata": {
    "collapsed": true
   },
   "outputs": [],
   "source": [
    "components = Component.from_file('Input/day24-example.txt')"
   ]
  },
  {
   "cell_type": "code",
   "execution_count": 71,
   "metadata": {
    "collapsed": false
   },
   "outputs": [
    {
     "data": {
      "text/plain": [
       "[0/2, 2/2, 2/3, 3/4, 3/5, 0/1, 10/1, 9/10]"
      ]
     },
     "execution_count": 71,
     "metadata": {},
     "output_type": "execute_result"
    }
   ],
   "source": [
    "components"
   ]
  },
  {
   "cell_type": "code",
   "execution_count": 75,
   "metadata": {
    "collapsed": false
   },
   "outputs": [
    {
     "name": "stdout",
     "output_type": "stream",
     "text": [
      "3/2\n"
     ]
    }
   ],
   "source": [
    "print components[2].flip_value_left(3)"
   ]
  },
  {
   "cell_type": "code",
   "execution_count": 76,
   "metadata": {
    "collapsed": false
   },
   "outputs": [
    {
     "name": "stdout",
     "output_type": "stream",
     "text": [
      "[0/2, 2/2, 3/2, 3/4, 3/5, 0/1, 10/1, 9/10]\n"
     ]
    }
   ],
   "source": [
    "print components"
   ]
  },
  {
   "cell_type": "code",
   "execution_count": 78,
   "metadata": {
    "collapsed": false
   },
   "outputs": [
    {
     "data": {
      "text/plain": [
       "10"
      ]
     },
     "execution_count": 78,
     "metadata": {},
     "output_type": "execute_result"
    }
   ],
   "source": [
    "compute_bridge_value([(0, 1), (1, 2), (2, 4)])"
   ]
  },
  {
   "cell_type": "code",
   "execution_count": null,
   "metadata": {
    "collapsed": true
   },
   "outputs": [],
   "source": []
  }
 ],
 "metadata": {
  "anaconda-cloud": {},
  "kernelspec": {
   "display_name": "Python [Root]",
   "language": "python",
   "name": "Python [Root]"
  },
  "language_info": {
   "codemirror_mode": {
    "name": "ipython",
    "version": 2
   },
   "file_extension": ".py",
   "mimetype": "text/x-python",
   "name": "python",
   "nbconvert_exporter": "python",
   "pygments_lexer": "ipython2",
   "version": "2.7.12"
  }
 },
 "nbformat": 4,
 "nbformat_minor": 0
}
