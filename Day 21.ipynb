{
 "cells": [
  {
   "cell_type": "markdown",
   "metadata": {},
   "source": [
    "# Advent of Code Day 21"
   ]
  },
  {
   "cell_type": "code",
   "execution_count": 74,
   "metadata": {
    "collapsed": true
   },
   "outputs": [],
   "source": [
    "from utils import read_input\n",
    "import numpy as np"
   ]
  },
  {
   "cell_type": "code",
   "execution_count": 132,
   "metadata": {
    "collapsed": false
   },
   "outputs": [],
   "source": [
    "def read_patterns():\n",
    "    lines = read_input('Input/day21-example.txt')\n",
    "    \n",
    "    return lines\n",
    "    \n",
    "    \n",
    "class GridPattern(object):\n",
    "    \n",
    "    def __init__(self, pattern, output):\n",
    "        \n",
    "        rows = np.asarray(list(p.split() for p in pattern.split('/')))\n",
    "        \n",
    "        print rows\n",
    "        \n",
    "        self.size = len(rows)     \n",
    "        self.output = output\n",
    "        \n",
    "        self.permutations = []\n",
    "        \n",
    "        for side in xrange(0, 4):\n",
    "            rotated = np.rot90(rows, k = side)\n",
    "            flipped = np.flipud(rotated)\n",
    "            \n",
    "            self.permutations.append(rotated)\n",
    "            self.permutations.append(flipped)           \n",
    "      \n",
    "              \n",
    "    def display_permutations(self):\n",
    "        \n",
    "        for row_index in xrange(0, self.size):  \n",
    "            perm_row = []\n",
    "            for permutation in self.permutations:\n",
    "                print permutation\n",
    "                perm_row.append(permutation[row_index].tolist())                \n",
    "                \n",
    "            print '\\t'.join(perm_row)\n",
    "                \n",
    "    \n",
    "    def match(self, square):\n",
    "        pass\n",
    "    \n",
    "    def replace(self, square):\n",
    "        if not match(square):\n",
    "            raise ValueError('Unable to replace within this square - pattern does not match')\n",
    "            \n",
    "        return output\n",
    "    "
   ]
  },
  {
   "cell_type": "code",
   "execution_count": 133,
   "metadata": {
    "collapsed": false
   },
   "outputs": [
    {
     "name": "stdout",
     "output_type": "stream",
     "text": [
      "[['..']\n",
      " ['.#']]\n"
     ]
    }
   ],
   "source": [
    "patterns = read_patterns()\n",
    "\n",
    "parts = patterns[0].split(' => ')\n",
    "grid_pattern = GridPattern(parts[0], parts[1])"
   ]
  },
  {
   "cell_type": "code",
   "execution_count": 134,
   "metadata": {
    "collapsed": false
   },
   "outputs": [
    {
     "name": "stdout",
     "output_type": "stream",
     "text": [
      "[['..']\n",
      " ['.#']]\n",
      "[['.#']\n",
      " ['..']]\n",
      "[['..' '.#']]\n",
      "[['..' '.#']]\n",
      "[['.#']\n",
      " ['..']]\n",
      "[['..']\n",
      " ['.#']]\n",
      "[['.#' '..']]\n",
      "[['.#' '..']]\n"
     ]
    },
    {
     "ename": "TypeError",
     "evalue": "sequence item 0: expected string, list found",
     "output_type": "error",
     "traceback": [
      "\u001b[1;31m---------------------------------------------------------------------------\u001b[0m",
      "\u001b[1;31mTypeError\u001b[0m                                 Traceback (most recent call last)",
      "\u001b[1;32m<ipython-input-134-bc8c27175da2>\u001b[0m in \u001b[0;36m<module>\u001b[1;34m()\u001b[0m\n\u001b[1;32m----> 1\u001b[1;33m \u001b[0mgrid_pattern\u001b[0m\u001b[1;33m.\u001b[0m\u001b[0mdisplay_permutations\u001b[0m\u001b[1;33m(\u001b[0m\u001b[1;33m)\u001b[0m\u001b[1;33m\u001b[0m\u001b[0m\n\u001b[0m",
      "\u001b[1;32m<ipython-input-132-fde3e1be9598>\u001b[0m in \u001b[0;36mdisplay_permutations\u001b[1;34m(self)\u001b[0m\n\u001b[0;32m     34\u001b[0m                 \u001b[0mperm_row\u001b[0m\u001b[1;33m.\u001b[0m\u001b[0mappend\u001b[0m\u001b[1;33m(\u001b[0m\u001b[0mpermutation\u001b[0m\u001b[1;33m[\u001b[0m\u001b[0mrow_index\u001b[0m\u001b[1;33m]\u001b[0m\u001b[1;33m.\u001b[0m\u001b[0mtolist\u001b[0m\u001b[1;33m(\u001b[0m\u001b[1;33m)\u001b[0m\u001b[1;33m)\u001b[0m\u001b[1;33m\u001b[0m\u001b[0m\n\u001b[0;32m     35\u001b[0m \u001b[1;33m\u001b[0m\u001b[0m\n\u001b[1;32m---> 36\u001b[1;33m             \u001b[1;32mprint\u001b[0m \u001b[1;34m'\\t'\u001b[0m\u001b[1;33m.\u001b[0m\u001b[0mjoin\u001b[0m\u001b[1;33m(\u001b[0m\u001b[0mperm_row\u001b[0m\u001b[1;33m)\u001b[0m\u001b[1;33m\u001b[0m\u001b[0m\n\u001b[0m\u001b[0;32m     37\u001b[0m \u001b[1;33m\u001b[0m\u001b[0m\n\u001b[0;32m     38\u001b[0m \u001b[1;33m\u001b[0m\u001b[0m\n",
      "\u001b[1;31mTypeError\u001b[0m: sequence item 0: expected string, list found"
     ]
    }
   ],
   "source": [
    "grid_pattern.display_permutations()"
   ]
  },
  {
   "cell_type": "code",
   "execution_count": 135,
   "metadata": {
    "collapsed": false
   },
   "outputs": [
    {
     "name": "stdout",
     "output_type": "stream",
     "text": [
      "[array([['..'],\n",
      "       ['.#']], \n",
      "      dtype='|S2'), array([['.#'],\n",
      "       ['..']], \n",
      "      dtype='|S2'), array([['..', '.#']], \n",
      "      dtype='|S2'), array([['..', '.#']], \n",
      "      dtype='|S2'), array([['.#'],\n",
      "       ['..']], \n",
      "      dtype='|S2'), array([['..'],\n",
      "       ['.#']], \n",
      "      dtype='|S2'), array([['.#', '..']], \n",
      "      dtype='|S2'), array([['.#', '..']], \n",
      "      dtype='|S2')]\n"
     ]
    }
   ],
   "source": [
    "print grid_pattern.permutations"
   ]
  },
  {
   "cell_type": "code",
   "execution_count": 29,
   "metadata": {
    "collapsed": true
   },
   "outputs": [],
   "source": [
    "grid_pattern3 = GridPattern(patterns[1].split(' => ')[0], patterns[1].split(' => ')[1])"
   ]
  },
  {
   "cell_type": "code",
   "execution_count": 30,
   "metadata": {
    "collapsed": false
   },
   "outputs": [
    {
     "data": {
      "text/plain": [
       "[['###', '..#', '.#.']]"
      ]
     },
     "execution_count": 30,
     "metadata": {},
     "output_type": "execute_result"
    }
   ],
   "source": [
    "grid_pattern3.permutations"
   ]
  },
  {
   "cell_type": "code",
   "execution_count": 31,
   "metadata": {
    "collapsed": false
   },
   "outputs": [
    {
     "name": "stdout",
     "output_type": "stream",
     "text": [
      ".#.\n",
      "..#\n",
      "###\n"
     ]
    }
   ],
   "source": [
    "grid_pattern3.display_pattern()"
   ]
  },
  {
   "cell_type": "code",
   "execution_count": 73,
   "metadata": {
    "collapsed": false
   },
   "outputs": [
    {
     "name": "stdout",
     "output_type": "stream",
     "text": [
      ".#.\t###\t#..\t..#\n",
      "..#\t..#\t.#.\t#..\n",
      "###\t.#.\t###\t###\n"
     ]
    }
   ],
   "source": [
    "gp = GridPattern('.#./..#/###', '#..#/..../..../#..#')\n",
    "\n",
    "gp.display_permutations()"
   ]
  },
  {
   "cell_type": "code",
   "execution_count": 75,
   "metadata": {
    "collapsed": true
   },
   "outputs": [],
   "source": [
    "n = np.asarray([[1, 2], [3, 4]])"
   ]
  },
  {
   "cell_type": "code",
   "execution_count": 76,
   "metadata": {
    "collapsed": false
   },
   "outputs": [
    {
     "data": {
      "text/plain": [
       "array([[1, 2],\n",
       "       [3, 4]])"
      ]
     },
     "execution_count": 76,
     "metadata": {},
     "output_type": "execute_result"
    }
   ],
   "source": [
    "n"
   ]
  },
  {
   "cell_type": "code",
   "execution_count": 77,
   "metadata": {
    "collapsed": false
   },
   "outputs": [
    {
     "ename": "AttributeError",
     "evalue": "'numpy.ndarray' object has no attribute 'rot90'",
     "output_type": "error",
     "traceback": [
      "\u001b[1;31m---------------------------------------------------------------------------\u001b[0m",
      "\u001b[1;31mAttributeError\u001b[0m                            Traceback (most recent call last)",
      "\u001b[1;32m<ipython-input-77-5538264c787b>\u001b[0m in \u001b[0;36m<module>\u001b[1;34m()\u001b[0m\n\u001b[1;32m----> 1\u001b[1;33m \u001b[0mn\u001b[0m\u001b[1;33m.\u001b[0m\u001b[0mrot90\u001b[0m\u001b[1;33m(\u001b[0m\u001b[0mk\u001b[0m\u001b[1;33m=\u001b[0m\u001b[1;36m1\u001b[0m\u001b[1;33m)\u001b[0m\u001b[1;33m\u001b[0m\u001b[0m\n\u001b[0m",
      "\u001b[1;31mAttributeError\u001b[0m: 'numpy.ndarray' object has no attribute 'rot90'"
     ]
    }
   ],
   "source": [
    "n.rot90(k=1)"
   ]
  },
  {
   "cell_type": "code",
   "execution_count": 81,
   "metadata": {
    "collapsed": false
   },
   "outputs": [
    {
     "data": {
      "text/plain": [
       "array([[2, 4],\n",
       "       [1, 3]])"
      ]
     },
     "execution_count": 81,
     "metadata": {},
     "output_type": "execute_result"
    }
   ],
   "source": [
    "np.rot90(n, k=1)"
   ]
  },
  {
   "cell_type": "code",
   "execution_count": 82,
   "metadata": {
    "collapsed": false
   },
   "outputs": [
    {
     "data": {
      "text/plain": [
       "array([[3, 4],\n",
       "       [1, 2]])"
      ]
     },
     "execution_count": 82,
     "metadata": {},
     "output_type": "execute_result"
    }
   ],
   "source": [
    "np.flipud(n)"
   ]
  },
  {
   "cell_type": "code",
   "execution_count": 138,
   "metadata": {
    "collapsed": false
   },
   "outputs": [],
   "source": [
    "n = '../.#'\n",
    "\n",
    "nn = n.split('/')\n",
    "\n",
    "nnn = np.asarray([list(n2) for n2 in nn])"
   ]
  },
  {
   "cell_type": "code",
   "execution_count": 139,
   "metadata": {
    "collapsed": false
   },
   "outputs": [
    {
     "data": {
      "text/plain": [
       "array([['.', '.'],\n",
       "       ['.', '#']], \n",
       "      dtype='|S1')"
      ]
     },
     "execution_count": 139,
     "metadata": {},
     "output_type": "execute_result"
    }
   ],
   "source": [
    "nnn"
   ]
  },
  {
   "cell_type": "code",
   "execution_count": 140,
   "metadata": {
    "collapsed": false
   },
   "outputs": [
    {
     "data": {
      "text/plain": [
       "array(['.', '.'], \n",
       "      dtype='|S1')"
      ]
     },
     "execution_count": 140,
     "metadata": {},
     "output_type": "execute_result"
    }
   ],
   "source": [
    "nnn[0]"
   ]
  },
  {
   "cell_type": "code",
   "execution_count": 141,
   "metadata": {
    "collapsed": false
   },
   "outputs": [
    {
     "data": {
      "text/plain": [
       "array([['.', '#'],\n",
       "       ['.', '.']], \n",
       "      dtype='|S1')"
      ]
     },
     "execution_count": 141,
     "metadata": {},
     "output_type": "execute_result"
    }
   ],
   "source": [
    "np.rot90(nnn, k = 1)"
   ]
  },
  {
   "cell_type": "code",
   "execution_count": 148,
   "metadata": {
    "collapsed": false
   },
   "outputs": [
    {
     "name": "stdout",
     "output_type": "stream",
     "text": [
      "../.#\n",
      "[['.' '#']\n",
      " ['.' '.']]\n",
      ".#/..\n",
      "[['.' '.']\n",
      " ['.' '#']]\n",
      "#./..\n",
      "[['.' '.']\n",
      " ['#' '.']]\n",
      "../#.\n",
      "[['#' '.']\n",
      " ['.' '.']]\n"
     ]
    }
   ],
   "source": [
    "for k in xrange(0, 4):\n",
    "    \n",
    "    rd = np.rot90(nnn, k = k)\n",
    "    print '/'.join(''.join(r) for r in rd)\n",
    "    print np.flipud(rd)\n",
    "    \n",
    "    \n",
    "    "
   ]
  },
  {
   "cell_type": "code",
   "execution_count": 155,
   "metadata": {
    "collapsed": false
   },
   "outputs": [
    {
     "data": {
      "text/plain": [
       "array(['.', '#'], \n",
       "      dtype='|S1')"
      ]
     },
     "execution_count": 155,
     "metadata": {},
     "output_type": "execute_result"
    }
   ],
   "source": [
    "nnn[:, 1]"
   ]
  },
  {
   "cell_type": "code",
   "execution_count": 154,
   "metadata": {
    "collapsed": false
   },
   "outputs": [
    {
     "data": {
      "text/plain": [
       "array([['.', '.'],\n",
       "       ['.', '#']], \n",
       "      dtype='|S1')"
      ]
     },
     "execution_count": 154,
     "metadata": {},
     "output_type": "execute_result"
    }
   ],
   "source": [
    "nnn"
   ]
  },
  {
   "cell_type": "code",
   "execution_count": null,
   "metadata": {
    "collapsed": true
   },
   "outputs": [],
   "source": []
  }
 ],
 "metadata": {
  "kernelspec": {
   "display_name": "Python [Root]",
   "language": "python",
   "name": "Python [Root]"
  },
  "language_info": {
   "codemirror_mode": {
    "name": "ipython",
    "version": 2
   },
   "file_extension": ".py",
   "mimetype": "text/x-python",
   "name": "python",
   "nbconvert_exporter": "python",
   "pygments_lexer": "ipython2",
   "version": "2.7.12"
  }
 },
 "nbformat": 4,
 "nbformat_minor": 0
}
