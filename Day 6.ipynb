{
 "cells": [
  {
   "cell_type": "markdown",
   "metadata": {},
   "source": [
    "# Advent of Code Day 6"
   ]
  },
  {
   "cell_type": "code",
   "execution_count": null,
   "metadata": {
    "collapsed": true
   },
   "outputs": [],
   "source": [
    "from utils import read_input\n",
    "import numpy as np"
   ]
  },
  {
   "cell_type": "code",
   "execution_count": null,
   "metadata": {
    "collapsed": false
   },
   "outputs": [],
   "source": [
    "def redistribute_until_repeat(blocks):\n",
    "    \n",
    "    redistributions = 0\n",
    "    last_configuration = None\n",
    "    previous_configurations = []   \n",
    "    \n",
    "    while True:    \n",
    "        block_index_to_distribute = np.argmax(blocks)\n",
    "        \n",
    "        blocks_to_distribute = blocks[block_index_to_distribute]\n",
    "        print('Redistributing {} blocks from  block index {}'.format(blocks_to_distribute, block_index_to_distribute))\n",
    "        blocks[block_index_to_distribute] = 0    \n",
    "    \n",
    "        block_index = (block_index_to_distribute + 1) % len(blocks)   \n",
    "    \n",
    "        for _ in xrange(blocks_to_distribute):\n",
    "            blocks[block_index]+=1\n",
    "            block_index = (block_index + 1) % len(blocks)\n",
    "            \n",
    "        redistributions +=1\n",
    "                \n",
    "        if tuple(blocks) in set(previous_configurations):            \n",
    "            cycles = len(previous_configurations) - previous_configurations.index(tuple(blocks))\n",
    "            \n",
    "            return { 'Redistributions':redistributions, 'Cycles': cycles }\n",
    "        else:\n",
    "            previous_configurations.append(tuple(blocks))\n",
    "         \n",
    "        \n",
    "    "
   ]
  },
  {
   "cell_type": "code",
   "execution_count": null,
   "metadata": {
    "collapsed": false
   },
   "outputs": [],
   "source": [
    "redistribute_until_repeat([5, 1, 10, 0, 1, 7, 13, 14, 3, 12, 8, 10, 7, 12, 0, 6])"
   ]
  },
  {
   "cell_type": "code",
   "execution_count": null,
   "metadata": {
    "collapsed": true
   },
   "outputs": [],
   "source": []
  }
 ],
 "metadata": {
  "anaconda-cloud": {},
  "kernelspec": {
   "display_name": "Python [Root]",
   "language": "python",
   "name": "Python [Root]"
  },
  "language_info": {
   "codemirror_mode": {
    "name": "ipython",
    "version": 2
   },
   "file_extension": ".py",
   "mimetype": "text/x-python",
   "name": "python",
   "nbconvert_exporter": "python",
   "pygments_lexer": "ipython2",
   "version": "2.7.12"
  }
 },
 "nbformat": 4,
 "nbformat_minor": 0
}
