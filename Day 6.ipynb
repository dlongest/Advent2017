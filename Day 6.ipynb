{
 "cells": [
  {
   "cell_type": "markdown",
   "metadata": {},
   "source": [
    "# Advent of Code Day 6\n",
    "\n",
    "For Day 6, the conceptual problem is given buckets representing memory banks, how many times can we redistribute the contents of the highest-valued bank among the others before the memory bank configuration is repeated.  In part one, the goal is to simply find how many redistributions occur before the repeat.  In part two, it's to determine how many redistributions occur between the terminating repeat configuration and its first appearance. "
   ]
  },
  {
   "cell_type": "code",
   "execution_count": null,
   "metadata": {
    "collapsed": true
   },
   "outputs": [],
   "source": [
    "from utils import read_input\n",
    "import numpy as np"
   ]
  },
  {
   "cell_type": "markdown",
   "metadata": {},
   "source": [
    "### Redistribute Until Repeat\n",
    "\n",
    "Given an array of banks (where each index is a bank and its value is the number of blocks in the bank), distribute the contents of the highest valued bank among all other banks (itself included) until the configuration of banks is repeated.  The number of total redistributions is returned as is the number of redistributions between the terminating configuration and its first appearance.  "
   ]
  },
  {
   "cell_type": "code",
   "execution_count": null,
   "metadata": {
    "collapsed": true
   },
   "outputs": [],
   "source": [
    "def redistribute_until_repeat(banks):\n",
    "   \n",
    "    previous_configurations = []   \n",
    "    \n",
    "    while True:    \n",
    "        # Which bank has the greatest value?  Tie-breaker for the problem is the lowest-index bank,\n",
    "        # which lines up with the behavior of argmax\n",
    "        bank_index_to_distribute = np.argmax(banks)\n",
    "        \n",
    "        blocks_to_distribute = banks[bank_index_to_distribute]\n",
    "        print('Redistributing {} blocks from  bank index {}'.format(blocks_to_distribute, bank_index_to_distribute))\n",
    "        banks[bank_index_to_distribute] = 0    \n",
    "        \n",
    "        bank_index = next_index(bank_index_to_distribute, len(banks))\n",
    "    \n",
    "        for _ in xrange(blocks_to_distribute):\n",
    "            banks[bank_index]+=1\n",
    "            bank_index = next_index(bank_index, len(banks))       \n",
    "        \n",
    "        # Use set() to detect duplicates but we have to store it as a tuple since list is not hashable         \n",
    "        if tuple(banks) in set(previous_configurations):  \n",
    "            redistributions = len(previous_configurations) + 1\n",
    "            cycles = len(previous_configurations) - previous_configurations.index(tuple(banks))\n",
    "            \n",
    "            return { 'Redistributions':redistributions, 'Cycles': cycles }\n",
    "        else:\n",
    "            previous_configurations.append(tuple(banks))\n",
    "         "
   ]
  },
  {
   "cell_type": "code",
   "execution_count": null,
   "metadata": {
    "collapsed": false
   },
   "outputs": [],
   "source": [
    "def next_index(current_index, length):\n",
    "    return (current_index + 1) % length\n",
    "    \n",
    "    "
   ]
  },
  {
   "cell_type": "code",
   "execution_count": null,
   "metadata": {
    "collapsed": false
   },
   "outputs": [],
   "source": [
    "# The input shown here is the sample input provided by the problem.  \n",
    "redistribute_until_repeat([5, 1, 10, 0, 1, 7, 13, 14, 3, 12, 8, 10, 7, 12, 0, 6])"
   ]
  },
  {
   "cell_type": "code",
   "execution_count": null,
   "metadata": {
    "collapsed": true
   },
   "outputs": [],
   "source": []
  }
 ],
 "metadata": {
  "anaconda-cloud": {},
  "kernelspec": {
   "display_name": "Python [Root]",
   "language": "python",
   "name": "Python [Root]"
  },
  "language_info": {
   "codemirror_mode": {
    "name": "ipython",
    "version": 2
   },
   "file_extension": ".py",
   "mimetype": "text/x-python",
   "name": "python",
   "nbconvert_exporter": "python",
   "pygments_lexer": "ipython2",
   "version": "2.7.12"
  }
 },
 "nbformat": 4,
 "nbformat_minor": 0
}
