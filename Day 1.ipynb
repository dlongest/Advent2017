{
 "cells": [
  {
   "cell_type": "markdown",
   "metadata": {},
   "source": [
    "# Advent of Code Day 1"
   ]
  },
  {
   "cell_type": "markdown",
   "metadata": {},
   "source": [
    "### Indexing Next With Wraparound\n",
    "\n",
    "One obvious way to approach the problem is to produce a new list that is essentially the current list with the first element appended to the end of it.  In this way, solving it simply requires stepping through each position, looking ahead one position, and comparing and summing if necessary.  You have to special case the end though and stop walking at the penultimate index.  Instead, you can do it without special case by determining the next index as the next index modulo list size, which automatically wraps the index around to the first of the list.  Doing so makes the implementation of a function to produce the \n",
    "index pretty easy."
   ]
  },
  {
   "cell_type": "code",
   "execution_count": null,
   "metadata": {
    "collapsed": true
   },
   "outputs": [],
   "source": [
    "def next_circular_index(source_length, current_index):\n",
    "    return (current_index + 1) % source_length"
   ]
  },
  {
   "cell_type": "markdown",
   "metadata": {},
   "source": [
    "### Indexing Halfway Around\n",
    "\n",
    "Since the problem statement acknowledges that the list is even-sized, every index has a matching index that is halfway around the list.  The halfway index is the index that is collection length divided by 2 away.  We can use the same trick as before and instead of adding 1 to the index, we add half the list's length, then take the modulo to wrap it around the front.  "
   ]
  },
  {
   "cell_type": "code",
   "execution_count": null,
   "metadata": {
    "collapsed": true
   },
   "outputs": [],
   "source": [
    "def next_halfway_circular_index(source_length, current_index):\n",
    "    return (current_index + (source_length / 2)) % source_length"
   ]
  },
  {
   "cell_type": "markdown",
   "metadata": {},
   "source": [
    "### Paired Sums\n",
    "\n",
    "The implementation to compute the sums is straight-forward once we've worked out an indexing strategy.  The function takes the collection to operate on and a function to get the pair index.  The function simply loops through each position in the array, compares it to its paired index (which it gets using the provided function), and if they match, adds to the accumulator.  \n",
    "\n",
    "Sidenote:  a recursive version of this function is trivial to write and I wrote one, but it wasn't tail-call recursive so I exceeded the maximum recurisve depth allowed by Python.  In point of fact I wrote three versions and landed on a version that's in this notebook that was about as tail-call-oriented as I could make it and it still exceeds the maximum recursive depth.  I've only left it here for academic purposes."
   ]
  },
  {
   "cell_type": "code",
   "execution_count": 55,
   "metadata": {
    "collapsed": true
   },
   "outputs": [],
   "source": [
    "def paired_sums(source, get_pair_index):\n",
    "    \n",
    "    source_length = len(source)\n",
    "    \n",
    "    sum = 0\n",
    "    for i, v in enumerate(source):\n",
    "        pair_index = get_pair_index(source_length, i)\n",
    "        if v == source[pair_index]:\n",
    "            sum = sum + v\n",
    "    \n",
    "    return sum\n",
    "\n",
    "# Do NOT use this function.  It will likely throw a maximum recursion depth exception for larger lists.  It's being left only\n",
    "# as an academic curiosity.  \n",
    "def paired_sums_recurse(source, get_pair_index, current_index, accum = None):\n",
    "    if accum == None:\n",
    "        accum = []\n",
    "    \n",
    "    source_length = len(source)\n",
    "    \n",
    "    if current_index == source_length:\n",
    "        return sum(accum)\n",
    "    \n",
    "    pair_index = get_pair_index(source_length, current_index)\n",
    "    \n",
    "    if source[current_index] == source[pair_index]:\n",
    "        accum.append(source[current_index])\n",
    "    \n",
    "    return paired_sums_recurse(source, get_pair_index, current_index + 1, accum)"
   ]
  },
  {
   "cell_type": "markdown",
   "metadata": {},
   "source": [
    "### Input Functions\n",
    "\n",
    "Basic function to read in the number from the file and then split it into an integer array.  Calling list() on the number automatically splits it into separate number tokens, but it makes them each strings so have to cast them back to ints. "
   ]
  },
  {
   "cell_type": "code",
   "execution_count": 37,
   "metadata": {
    "collapsed": false
   },
   "outputs": [],
   "source": [
    "def read_number():\n",
    "    f = open('Input/day1.txt')\n",
    "    \n",
    "    return f.read()\n",
    "\n",
    "def as_list(number):\n",
    "    return [int(x) for x in list(number)]"
   ]
  },
  {
   "cell_type": "markdown",
   "metadata": {},
   "source": [
    "### Solve\n",
    "\n",
    "If we've done the earlier parts right, all we have to do is piece the functions together to generate the output.  "
   ]
  },
  {
   "cell_type": "code",
   "execution_count": 57,
   "metadata": {
    "collapsed": false
   },
   "outputs": [],
   "source": [
    "def solve_part_1():\n",
    "    print paired_sums(as_list(read_number()), next_circular_index)\n",
    "\n",
    "\n",
    "def solve_part_2():    \n",
    "    print paired_sums(as_list(read_number()), next_halfway_circular_index)"
   ]
  },
  {
   "cell_type": "code",
   "execution_count": 56,
   "metadata": {
    "collapsed": false
   },
   "outputs": [
    {
     "name": "stdout",
     "output_type": "stream",
     "text": [
      "1182\n",
      "1152\n"
     ]
    }
   ],
   "source": [
    "solve_part_1()\n",
    "\n",
    "solve_part_2()"
   ]
  },
  {
   "cell_type": "code",
   "execution_count": null,
   "metadata": {
    "collapsed": true
   },
   "outputs": [],
   "source": []
  }
 ],
 "metadata": {
  "anaconda-cloud": {},
  "kernelspec": {
   "display_name": "Python [Root]",
   "language": "python",
   "name": "Python [Root]"
  },
  "language_info": {
   "codemirror_mode": {
    "name": "ipython",
    "version": 2
   },
   "file_extension": ".py",
   "mimetype": "text/x-python",
   "name": "python",
   "nbconvert_exporter": "python",
   "pygments_lexer": "ipython2",
   "version": "2.7.12"
  }
 },
 "nbformat": 4,
 "nbformat_minor": 0
}
