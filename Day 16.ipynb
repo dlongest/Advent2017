{
 "cells": [
  {
   "cell_type": "markdown",
   "metadata": {},
   "source": [
    "# Advent of Code Day 16\n"
   ]
  },
  {
   "cell_type": "code",
   "execution_count": 1,
   "metadata": {
    "collapsed": true
   },
   "outputs": [],
   "source": [
    "from utils import read_input"
   ]
  },
  {
   "cell_type": "code",
   "execution_count": 4,
   "metadata": {
    "collapsed": true
   },
   "outputs": [],
   "source": [
    "def read_instructions(filename):\n",
    "    \n",
    "    instructions = read_input(filename)[0].split(',')\n",
    "   \n",
    "    return [parse_instruction(instruction) for instruction in instructions]\n",
    "\n",
    "def parse_instruction(instruction):\n",
    "    \n",
    "    move = instruction[0]\n",
    "    \n",
    "    if move == 's':\n",
    "        return ('spin', [int(instruction[1:])])\n",
    "    elif move == 'x':\n",
    "        args = [int(arg) for arg in instruction[1:].split('/')]\n",
    "        \n",
    "        return ('exchange', args)        \n",
    "    elif move =='p':\n",
    "        args = [arg for arg in instruction[1:].split('/')]\n",
    "            \n",
    "        return ('partner', args)\n",
    "    else:\n",
    "        raise ValueError('Unrecognized instruction code {}'.format(instruction[0]))\n",
    "\n",
    "\n",
    "def spin(programs, size):\n",
    "    size = size % len(programs)\n",
    "    \n",
    "    return programs[-size:] + programs[:-size]\n",
    "\n",
    "def swap_by_position(programs, index1, index2):    \n",
    "       \n",
    "    programs[index1], programs[index2] = programs[index2], programs[index1]\n",
    "    \n",
    "    return programs\n",
    "\n",
    "def swap_by_value(programs, value1, value2):\n",
    "   \n",
    "    index1 = programs.index(value1)\n",
    "    index2 = programs.index(value2)\n",
    "    \n",
    "    return swap_by_position(programs, index1, index2)"
   ]
  },
  {
   "cell_type": "code",
   "execution_count": 13,
   "metadata": {
    "collapsed": false
   },
   "outputs": [],
   "source": [
    "def execute_instruction(programs, instruction):\n",
    "      \n",
    "    (move, args) = instruction\n",
    "        \n",
    "    if move == 'spin':\n",
    "        programs = spin(programs, args[0])\n",
    "    elif move == 'exchange':\n",
    "        programs = swap_by_position(programs, args[0], args[1])\n",
    "    elif move == 'partner':\n",
    "        programs = swap_by_value(programs, args[0], args[1])\n",
    "    \n",
    "    return programs\n",
    "\n",
    "def execute_instructions(programs, instructions):\n",
    "    \n",
    "    seen = []\n",
    "       \n",
    "    for instruction in instructions:\n",
    "        programs = execute_instruction(programs, instruction)\n",
    "        \n",
    "        seen.append(''.join(programs))            \n",
    "    \n",
    "    return (programs, seen)\n",
    "\n",
    "def solve_part_one():\n",
    "    \n",
    "    instructions = read_instructions('Input/day16.txt')\n",
    "    \n",
    "    programs = list('abcdefghijklmnop')\n",
    "    \n",
    "    programs, seen = execute_instructions(programs, instructions)\n",
    "    \n",
    "    print 'Programs = {}'.format(''.join(programs))\n",
    "\n",
    "\n",
    "def solve_part_two():\n",
    "    \n",
    "    instructions = read_instructions('Input/day16.txt') * 75\n",
    "    \n",
    "    \n",
    "    programs = 'abcdefghijklmnop'\n",
    "    programs_list = list(programs)    \n",
    "    seen = [programs]    \n",
    "    \n",
    "    for instruction in instructions:\n",
    "        new_programs_list = execute_instruction(programs_list, instruction)\n",
    "        new_programs = ''.join(new_programs_list)\n",
    "        \n",
    "        seen.append(new_programs)\n",
    "    \n",
    "    ix = seen.index('fmpanloehgkdcbji')\n",
    "    return ix\n",
    "    "
   ]
  },
  {
   "cell_type": "code",
   "execution_count": 14,
   "metadata": {
    "collapsed": false
   },
   "outputs": [
    {
     "ename": "ValueError",
     "evalue": "'fmpanloehgkdcbji' is not in list",
     "output_type": "error",
     "traceback": [
      "\u001b[1;31m---------------------------------------------------------------------------\u001b[0m",
      "\u001b[1;31mValueError\u001b[0m                                Traceback (most recent call last)",
      "\u001b[1;32m<ipython-input-14-ca197496d9bc>\u001b[0m in \u001b[0;36m<module>\u001b[1;34m()\u001b[0m\n\u001b[1;32m----> 1\u001b[1;33m \u001b[1;32mprint\u001b[0m \u001b[0msolve_part_two\u001b[0m\u001b[1;33m(\u001b[0m\u001b[1;33m)\u001b[0m \u001b[1;31m#150000, 300000\u001b[0m\u001b[1;33m\u001b[0m\u001b[0m\n\u001b[0m\u001b[0;32m      2\u001b[0m \u001b[1;33m\u001b[0m\u001b[0m\n\u001b[0;32m      3\u001b[0m \u001b[1;31m#print 1000000000 / 150000\u001b[0m\u001b[1;33m\u001b[0m\u001b[1;33m\u001b[0m\u001b[0m\n\u001b[0;32m      4\u001b[0m \u001b[1;31m#print 1000000000 % 150000\u001b[0m\u001b[1;33m\u001b[0m\u001b[1;33m\u001b[0m\u001b[0m\n\u001b[0;32m      5\u001b[0m \u001b[1;33m\u001b[0m\u001b[0m\n",
      "\u001b[1;32m<ipython-input-13-403a3a7a9a81>\u001b[0m in \u001b[0;36msolve_part_two\u001b[1;34m()\u001b[0m\n\u001b[0;32m     49\u001b[0m         \u001b[0mseen\u001b[0m\u001b[1;33m.\u001b[0m\u001b[0mappend\u001b[0m\u001b[1;33m(\u001b[0m\u001b[0mnew_programs\u001b[0m\u001b[1;33m)\u001b[0m\u001b[1;33m\u001b[0m\u001b[0m\n\u001b[0;32m     50\u001b[0m \u001b[1;33m\u001b[0m\u001b[0m\n\u001b[1;32m---> 51\u001b[1;33m     \u001b[0mix\u001b[0m \u001b[1;33m=\u001b[0m \u001b[0mseen\u001b[0m\u001b[1;33m.\u001b[0m\u001b[0mindex\u001b[0m\u001b[1;33m(\u001b[0m\u001b[1;34m'fmpanloehgkdcbji'\u001b[0m\u001b[1;33m)\u001b[0m\u001b[1;33m\u001b[0m\u001b[0m\n\u001b[0m\u001b[0;32m     52\u001b[0m     \u001b[1;32mreturn\u001b[0m \u001b[0mix\u001b[0m\u001b[1;33m\u001b[0m\u001b[0m\n\u001b[0;32m     53\u001b[0m \u001b[1;33m\u001b[0m\u001b[0m\n",
      "\u001b[1;31mValueError\u001b[0m: 'fmpanloehgkdcbji' is not in list"
     ]
    }
   ],
   "source": [
    "print solve_part_two() #150000, 300000\n",
    "    \n",
    "#print 1000000000 / 150000\n",
    "#print 1000000000 % 150000\n",
    "    "
   ]
  },
  {
   "cell_type": "code",
   "execution_count": 15,
   "metadata": {
    "collapsed": false
   },
   "outputs": [],
   "source": [
    "def solve(raw_steps):\n",
    "    steps = [d for d in raw_steps.split(',')]\n",
    "    programs = [n for n in 'abcdefghijklmnop']\n",
    "    seen = []\n",
    "    for i in xrange(1000000000):\n",
    "        h = tuple(programs)\n",
    "        if h in seen:\n",
    "            print 'i = {}'.format(i)\n",
    "            return ''.join(seen[1000000000 % len(seen)])\n",
    "        seen += [h]\n",
    "        for step in steps:\n",
    "            if step[0] == 's':\n",
    "                node = int(step[1:])\n",
    "                programs = programs[-node:] + programs[:-node]\n",
    "            if step[0] == 'x':\n",
    "                n1, n2 = list(map(int, step[1:].split('/')))\n",
    "                programs[n1], programs[n2] = programs[n2], programs[n1]\n",
    "            if step[0] == 'p':\n",
    "                n1, n2 = step[1:].split('/')\n",
    "                d1, d2 = programs.index(n1), programs.index(n2)\n",
    "                programs[d1], programs[d2] = n2, n1\n",
    "    return ''.join(programs)"
   ]
  },
  {
   "cell_type": "code",
   "execution_count": 16,
   "metadata": {
    "collapsed": false
   },
   "outputs": [
    {
     "name": "stdout",
     "output_type": "stream",
     "text": [
      "i = 60\n",
      "fmpanloehgkdcbji\n"
     ]
    }
   ],
   "source": [
    "print solve(read_input('Input/day16.txt')[0])"
   ]
  },
  {
   "cell_type": "code",
   "execution_count": null,
   "metadata": {
    "collapsed": false
   },
   "outputs": [],
   "source": [
    "# His sample = fmpanloehgkdcbji is correct: but why is mine wrong????\n",
    "# Not 'jphbmacnfokldieg' [100000]\n",
    "# Not 'gepdbnlmikojhafc' [399997]\n",
    "# Not 'bnlmikojhafcgepd' [399998]\n",
    "# Not 'bhlmikojnafcgepd' [399999]\n",
    "# Not 'bhlmikojnafcgdpe' [400000]\n",
    "# Not 'bhlmpkojnafcgdie' [400001]"
   ]
  },
  {
   "cell_type": "code",
   "execution_count": null,
   "metadata": {
    "collapsed": false
   },
   "outputs": [],
   "source": [
    "done = set([])\n",
    "\n",
    "for index, s in enumerate(seen):\n",
    "    \n",
    "    if s in seen[index + 1:] and s not in done:\n",
    "        all_indices= [i for i, v in enumerate(seen) if v == s]\n",
    "        \n",
    "        print 'Value {} found at indices {}'.format(s, all_indices)\n",
    "        done.add(s)\n",
    "        "
   ]
  },
  {
   "cell_type": "code",
   "execution_count": null,
   "metadata": {
    "collapsed": false
   },
   "outputs": [],
   "source": [
    "[i for i, v in enumerate(seen) if v == 'jbcdoenlfkaimhgp']\n",
    "\n",
    "#seen.index('jbcdoenlfkaimhgp')"
   ]
  },
  {
   "cell_type": "code",
   "execution_count": null,
   "metadata": {
    "collapsed": false
   },
   "outputs": [],
   "source": [
    "print seen[232:236]"
   ]
  },
  {
   "cell_type": "code",
   "execution_count": null,
   "metadata": {
    "collapsed": false
   },
   "outputs": [],
   "source": [
    "print seen[230:240]"
   ]
  },
  {
   "cell_type": "code",
   "execution_count": null,
   "metadata": {
    "collapsed": true
   },
   "outputs": [],
   "source": []
  }
 ],
 "metadata": {
  "kernelspec": {
   "display_name": "Python [Root]",
   "language": "python",
   "name": "Python [Root]"
  },
  "language_info": {
   "codemirror_mode": {
    "name": "ipython",
    "version": 2
   },
   "file_extension": ".py",
   "mimetype": "text/x-python",
   "name": "python",
   "nbconvert_exporter": "python",
   "pygments_lexer": "ipython2",
   "version": "2.7.12"
  }
 },
 "nbformat": 4,
 "nbformat_minor": 0
}
