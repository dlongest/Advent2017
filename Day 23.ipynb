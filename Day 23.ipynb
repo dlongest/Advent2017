{
 "cells": [
  {
   "cell_type": "markdown",
   "metadata": {},
   "source": [
    "# Advent of Code Day 23"
   ]
  },
  {
   "cell_type": "code",
   "execution_count": 7,
   "metadata": {
    "collapsed": true
   },
   "outputs": [],
   "source": [
    "from utils import read_input\n",
    "from collections import defaultdict"
   ]
  },
  {
   "cell_type": "code",
   "execution_count": 8,
   "metadata": {
    "collapsed": true
   },
   "outputs": [],
   "source": [
    "def parse_instruction(instruction):\n",
    "    op = instruction[0:3]\n",
    "    \n",
    "    args = [ins.strip() for ins in instruction[4:].split(' ')]\n",
    "    \n",
    "    return (op, args)\n",
    "\n",
    "\n",
    "def get_argument_value(registers, arg):\n",
    "    try:\n",
    "        numeric_arg = int(arg)        \n",
    "        return numeric_arg\n",
    "    except:\n",
    "        return registers[arg] "
   ]
  },
  {
   "cell_type": "code",
   "execution_count": 38,
   "metadata": {
    "collapsed": false
   },
   "outputs": [
    {
     "name": "stdout",
     "output_type": "stream",
     "text": [
      "\n"
     ]
    }
   ],
   "source": [
    "def execute_instructions(instructions, initial_registers = None):\n",
    "    \n",
    "    if initial_registers == None:\n",
    "        registers = defaultdict(int)\n",
    "    else:\n",
    "        registers = defaultdict(int, initial_registers)\n",
    "    \n",
    "    instruction_index = 0\n",
    "    mul_count = 0\n",
    "        \n",
    "    while instruction_index < len(instructions):    \n",
    "        \n",
    "        instruction = instructions[instruction_index]\n",
    "        (op, args) = parse_instruction(instruction)\n",
    "      \n",
    "        if op == 'set':\n",
    "            registers[args[0]] = get_argument_value(registers, args[1])\n",
    "            instruction_index += 1\n",
    "            \n",
    "        elif op == 'sub':\n",
    "            registers[args[0]] -= get_argument_value(registers, args[1])\n",
    "            \n",
    "            instruction_index += 1\n",
    "        elif op == 'mul':\n",
    "            multiplicand = registers[args[0]]\n",
    "            multiplier = registers[args[1]]\n",
    "                  \n",
    "            registers[args[0]] *= get_argument_value(registers, args[1])\n",
    "            \n",
    "            instruction_index += 1   \n",
    "            mul_count += 1\n",
    "        elif op == 'jnz':\n",
    "            if get_argument_value(registers, args[0]) != 0:\n",
    "                instruction_index += get_argument_value(registers, args[1])\n",
    "            else:\n",
    "                instruction_index += 1\n",
    "    \n",
    "    print 'h == {}'.format(registers['h'])"
   ]
  },
  {
   "cell_type": "code",
   "execution_count": 22,
   "metadata": {
    "collapsed": false
   },
   "outputs": [],
   "source": [
    "def solve_part_one():\n",
    "    \n",
    "    instructions = read_input('Input/day23.txt')\n",
    "    \n",
    "    execute_instructions(instructions)"
   ]
  },
  {
   "cell_type": "code",
   "execution_count": 39,
   "metadata": {
    "collapsed": false
   },
   "outputs": [],
   "source": [
    "def solve_part_two():\n",
    "    \n",
    "    initial_registers = { 'a': 1 }\n",
    "    \n",
    "    instructions = read_input('Input/day23.txt')\n",
    "    \n",
    "    execute_instructions(instructions, initial_registers)"
   ]
  },
  {
   "cell_type": "code",
   "execution_count": 40,
   "metadata": {
    "collapsed": false
   },
   "outputs": [
    {
     "ename": "KeyboardInterrupt",
     "evalue": "",
     "output_type": "error",
     "traceback": [
      "\u001b[1;31m---------------------------------------------------------------------------\u001b[0m",
      "\u001b[1;31mKeyboardInterrupt\u001b[0m                         Traceback (most recent call last)",
      "\u001b[1;32m<ipython-input-40-d13e2154f753>\u001b[0m in \u001b[0;36m<module>\u001b[1;34m()\u001b[0m\n\u001b[1;32m----> 1\u001b[1;33m \u001b[0msolve_part_two\u001b[0m\u001b[1;33m(\u001b[0m\u001b[1;33m)\u001b[0m\u001b[1;33m\u001b[0m\u001b[0m\n\u001b[0m",
      "\u001b[1;32m<ipython-input-39-674cb3ec8f02>\u001b[0m in \u001b[0;36msolve_part_two\u001b[1;34m()\u001b[0m\n\u001b[0;32m      5\u001b[0m     \u001b[0minstructions\u001b[0m \u001b[1;33m=\u001b[0m \u001b[0mread_input\u001b[0m\u001b[1;33m(\u001b[0m\u001b[1;34m'Input/day23.txt'\u001b[0m\u001b[1;33m)\u001b[0m\u001b[1;33m\u001b[0m\u001b[0m\n\u001b[0;32m      6\u001b[0m \u001b[1;33m\u001b[0m\u001b[0m\n\u001b[1;32m----> 7\u001b[1;33m     \u001b[0mexecute_instructions\u001b[0m\u001b[1;33m(\u001b[0m\u001b[0minstructions\u001b[0m\u001b[1;33m,\u001b[0m \u001b[0minitial_registers\u001b[0m\u001b[1;33m)\u001b[0m\u001b[1;33m\u001b[0m\u001b[0m\n\u001b[0m",
      "\u001b[1;32m<ipython-input-38-fcdbfb02256b>\u001b[0m in \u001b[0;36mexecute_instructions\u001b[1;34m(instructions, initial_registers)\u001b[0m\n\u001b[0;32m     12\u001b[0m \u001b[1;33m\u001b[0m\u001b[0m\n\u001b[0;32m     13\u001b[0m         \u001b[0minstruction\u001b[0m \u001b[1;33m=\u001b[0m \u001b[0minstructions\u001b[0m\u001b[1;33m[\u001b[0m\u001b[0minstruction_index\u001b[0m\u001b[1;33m]\u001b[0m\u001b[1;33m\u001b[0m\u001b[0m\n\u001b[1;32m---> 14\u001b[1;33m         \u001b[1;33m(\u001b[0m\u001b[0mop\u001b[0m\u001b[1;33m,\u001b[0m \u001b[0margs\u001b[0m\u001b[1;33m)\u001b[0m \u001b[1;33m=\u001b[0m \u001b[0mparse_instruction\u001b[0m\u001b[1;33m(\u001b[0m\u001b[0minstruction\u001b[0m\u001b[1;33m)\u001b[0m\u001b[1;33m\u001b[0m\u001b[0m\n\u001b[0m\u001b[0;32m     15\u001b[0m \u001b[1;33m\u001b[0m\u001b[0m\n\u001b[0;32m     16\u001b[0m         \u001b[1;32mif\u001b[0m \u001b[0mop\u001b[0m \u001b[1;33m==\u001b[0m \u001b[1;34m'set'\u001b[0m\u001b[1;33m:\u001b[0m\u001b[1;33m\u001b[0m\u001b[0m\n",
      "\u001b[1;32m<ipython-input-8-92e71c6b38da>\u001b[0m in \u001b[0;36mparse_instruction\u001b[1;34m(instruction)\u001b[0m\n\u001b[0;32m      2\u001b[0m     \u001b[0mop\u001b[0m \u001b[1;33m=\u001b[0m \u001b[0minstruction\u001b[0m\u001b[1;33m[\u001b[0m\u001b[1;36m0\u001b[0m\u001b[1;33m:\u001b[0m\u001b[1;36m3\u001b[0m\u001b[1;33m]\u001b[0m\u001b[1;33m\u001b[0m\u001b[0m\n\u001b[0;32m      3\u001b[0m \u001b[1;33m\u001b[0m\u001b[0m\n\u001b[1;32m----> 4\u001b[1;33m     \u001b[0margs\u001b[0m \u001b[1;33m=\u001b[0m \u001b[1;33m[\u001b[0m\u001b[0mins\u001b[0m\u001b[1;33m.\u001b[0m\u001b[0mstrip\u001b[0m\u001b[1;33m(\u001b[0m\u001b[1;33m)\u001b[0m \u001b[1;32mfor\u001b[0m \u001b[0mins\u001b[0m \u001b[1;32min\u001b[0m \u001b[0minstruction\u001b[0m\u001b[1;33m[\u001b[0m\u001b[1;36m4\u001b[0m\u001b[1;33m:\u001b[0m\u001b[1;33m]\u001b[0m\u001b[1;33m.\u001b[0m\u001b[0msplit\u001b[0m\u001b[1;33m(\u001b[0m\u001b[1;34m' '\u001b[0m\u001b[1;33m)\u001b[0m\u001b[1;33m]\u001b[0m\u001b[1;33m\u001b[0m\u001b[0m\n\u001b[0m\u001b[0;32m      5\u001b[0m \u001b[1;33m\u001b[0m\u001b[0m\n\u001b[0;32m      6\u001b[0m     \u001b[1;32mreturn\u001b[0m \u001b[1;33m(\u001b[0m\u001b[0mop\u001b[0m\u001b[1;33m,\u001b[0m \u001b[0margs\u001b[0m\u001b[1;33m)\u001b[0m\u001b[1;33m\u001b[0m\u001b[0m\n",
      "\u001b[1;31mKeyboardInterrupt\u001b[0m: "
     ]
    }
   ],
   "source": [
    "solve_part_two()"
   ]
  },
  {
   "cell_type": "code",
   "execution_count": 25,
   "metadata": {
    "collapsed": false
   },
   "outputs": [
    {
     "data": {
      "text/plain": [
       "defaultdict(int, {'a': 1})"
      ]
     },
     "execution_count": 25,
     "metadata": {},
     "output_type": "execute_result"
    }
   ],
   "source": [
    "dd"
   ]
  },
  {
   "cell_type": "code",
   "execution_count": null,
   "metadata": {
    "collapsed": true
   },
   "outputs": [],
   "source": []
  }
 ],
 "metadata": {
  "anaconda-cloud": {},
  "kernelspec": {
   "display_name": "Python [Root]",
   "language": "python",
   "name": "Python [Root]"
  },
  "language_info": {
   "codemirror_mode": {
    "name": "ipython",
    "version": 2
   },
   "file_extension": ".py",
   "mimetype": "text/x-python",
   "name": "python",
   "nbconvert_exporter": "python",
   "pygments_lexer": "ipython2",
   "version": "2.7.12"
  }
 },
 "nbformat": 4,
 "nbformat_minor": 0
}
