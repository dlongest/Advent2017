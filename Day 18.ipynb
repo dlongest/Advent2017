{
 "cells": [
  {
   "cell_type": "markdown",
   "metadata": {},
   "source": [
    "# Advent of Code Day 18\n",
    "\n",
    "For Day 18, we build a basic instruction processor.  For part one, there are a handful of instructions that just have to be implemented to manipulate some registers (held in a dictionary) with the goal of looking for a specific instruction to execute. Part two revises the nature of two instructions and requires building (in essence) a cheap multiprocessing.  The second part was tricky in terms of getting the coordination and termination conditions exactly right.  "
   ]
  },
  {
   "cell_type": "code",
   "execution_count": null,
   "metadata": {
    "collapsed": true
   },
   "outputs": [],
   "source": [
    "from utils import read_input\n",
    "from collections import defaultdict\n",
    "import Queue"
   ]
  },
  {
   "cell_type": "markdown",
   "metadata": {},
   "source": [
    "### Instruction Methods\n",
    "\n",
    "Given an instruction as a string, parse_instruction returns a tuple consisting of the op (taken directly from the instruction) and the arguments (as a list).  The arguments can be values or registers, but it's up to a later component to interpret them.\n",
    "\n",
    "Get_argument_value takes the application registers (a dictionary) and a particular instruction argument and returns *either* the arg itself (when the arg represents a value) or the value of the register (when the arg represents a register). This determination is based on whether the arg is numeric (a value) or alphabetic (a register)."
   ]
  },
  {
   "cell_type": "code",
   "execution_count": null,
   "metadata": {
    "collapsed": true
   },
   "outputs": [],
   "source": [
    "def parse_instruction(instruction):\n",
    "    op = instruction[0:3]\n",
    "    \n",
    "    args = [ins.strip() for ins in instruction[4:].split(' ')]\n",
    "    \n",
    "    return (op, args)\n",
    "\n",
    "\n",
    "def get_argument_value(registers, arg):\n",
    "    try:\n",
    "        numeric_arg = int(arg)        \n",
    "        return numeric_arg\n",
    "    except:\n",
    "        return registers[arg] "
   ]
  },
  {
   "cell_type": "markdown",
   "metadata": {},
   "source": [
    "### Part One\n",
    "\n",
    "Part one is straight-forward enough - only the snd/rcv instructions require any special handling.  The heart of the logic is using get_argument_value to retrieve the value that should be applied.  This could be the value from a register or a value read in from the instructions directly - get_argument_value abstracts both of that away.  The caller only has to be certain that the argument should be treated in such a way and not as a register directly.  "
   ]
  },
  {
   "cell_type": "code",
   "execution_count": null,
   "metadata": {
    "collapsed": true
   },
   "outputs": [],
   "source": [
    "def execute_instructions(instructions):\n",
    "    \n",
    "    registers = defaultdict(int)\n",
    "    instruction_index = 0\n",
    "    last_frequency = None\n",
    "        \n",
    "    while instruction_index < len(instructions):    \n",
    "        \n",
    "        instruction = instructions[instruction_index]\n",
    "        (op, args) = parse_instruction(instruction)\n",
    "      \n",
    "        if op == 'set':\n",
    "            registers[args[0]] = get_argument_value(registers, args[1])\n",
    "            instruction_index += 1\n",
    "        elif op == 'add':\n",
    "            registers[args[0]] += get_argument_value(registers, args[1])\n",
    "            instruction_index += 1\n",
    "        elif op == 'mul':\n",
    "            registers[args[0]] *= get_argument_value(registers, args[1])\n",
    "            instruction_index += 1\n",
    "        elif op == 'mod':\n",
    "            registers[args[0]] %= get_argument_value(registers, args[1])\n",
    "            instruction_index += 1\n",
    "        elif op == 'snd':\n",
    "            last_frequency = get_argument_value(registers, args[0])\n",
    "            instruction_index += 1\n",
    "        elif op == 'jgz':\n",
    "            if get_argument_value(registers, args[0]) > 0:\n",
    "                instruction_index += get_argument_value(registers, args[1])\n",
    "            else:\n",
    "                instruction_index += 1\n",
    "        elif op == 'rcv':\n",
    "            print 'Recovered Frequency = {}'.format(last_frequency)\n",
    "            return        "
   ]
  },
  {
   "cell_type": "markdown",
   "metadata": {},
   "source": [
    "### Part 2\n",
    "\n",
    "Part 2 was a challenge because it requires interleaving two distinct \"programs\" and finding a way for them to communicate.  I decided to use a Queue object for each program.  Each program also gets its own registers and instruction pointer.  Lastly, each needs to be able to communicate if it's completed its instructions or if its blocked.  The problem description mentions that the program should work correctly regardless of how you choose to run the programs.  I decided to have each program run up until the point it encountered a rcv instruction and its queue was empty.  At that point, its blocked and transfers execution to the other program.  Deadlocks can occur if both programs are blocked, or if one program is done and the other is blocked, in which event the combined program needs to terminate. "
   ]
  },
  {
   "cell_type": "code",
   "execution_count": null,
   "metadata": {
    "collapsed": false
   },
   "outputs": [],
   "source": [
    "def execute_instructions2(instructions):\n",
    "    \n",
    "    # Each program needs its own registers and the 'p' register starts as the Program ID (0 or 1)\n",
    "    registers = [defaultdict(int), defaultdict(int)]\n",
    "    registers[0]['p'] = 0\n",
    "    registers[1]['p'] = 1    \n",
    "    me = 0\n",
    "    other = 1\n",
    "    \n",
    "    count = 0\n",
    "    # each program needs its own instruction pointer\n",
    "    instruction_index = [0, 0]\n",
    "    \n",
    "    # We need to track both each program being done (completed all instructions) and blocked (waiting to receive a valueP)\n",
    "    done = [False, False]\n",
    "    blocked = [False, False]\n",
    "    \n",
    "    # each program needs a queue.  We'll say that each program reads from the queue at\n",
    "    # queues[ProgramID] i.e. that a program places an item onto the other program's queue\n",
    "    queues = [Queue.Queue(), Queue.Queue()]\n",
    "           \n",
    "    while True:       \n",
    "        \n",
    "        done[0] = instruction_index[0] == len(instructions)\n",
    "        done[1] = instruction_index[1] == len(instructions)\n",
    "        \n",
    "        if all(done):\n",
    "            print 'Both programs are done - exiting normally'\n",
    "            break\n",
    "            \n",
    "        if all(blocked) and all([q.empty for q in queues]):\n",
    "            print 'Both programs are blocked with no input queued - terminating due to deadlock'\n",
    "            break\n",
    "        \n",
    "        instruction = instructions[instruction_index[me]]\n",
    "        (op, args) = parse_instruction(instruction)\n",
    "        \n",
    "        if op == 'set':\n",
    "            registers[me][args[0]] = get_argument_value(registers[me], args[1])\n",
    "            instruction_index[me] += 1\n",
    "        elif op == 'add':\n",
    "            registers[me][args[0]] += get_argument_value(registers[me], args[1])\n",
    "            instruction_index[me] += 1\n",
    "        elif op == 'mul':\n",
    "            registers[me][args[0]] *= get_argument_value(registers[me], args[1])\n",
    "            instruction_index[me] += 1\n",
    "        elif op == 'mod':\n",
    "            registers[me][args[0]] %= get_argument_value(registers[me], args[1])\n",
    "            instruction_index[me] += 1      \n",
    "        elif op == 'jgz':\n",
    "            if get_argument_value(registers[me], args[0]) > 0:\n",
    "                instruction_index[me] += get_argument_value(registers[me], args[1])\n",
    "            else:\n",
    "                instruction_index[me] += 1\n",
    "        elif op == 'snd': # send\n",
    "            value = get_argument_value(registers[me], args[0])\n",
    "            queues[other].put(value)\n",
    "            instruction_index[me] += 1           \n",
    "            blocked[other] = False # if I send you a value, you shouldn't be considered blocked\n",
    "            \n",
    "            if me == 1:\n",
    "                count += 1\n",
    "        elif op == 'rcv':\n",
    "            if queues[me].empty():             \n",
    "                print '{} will be blocked'.format(me)\n",
    "                blocked[me] = True\n",
    "                me, other = other, me # Just because I'm blocked doesn't mean the other guy is.\n",
    "            else:\n",
    "                blocked[me] = False \n",
    "                value = queues[me].get()\n",
    "                register = args[0]\n",
    "                registers[me][register] = value\n",
    "                instruction_index[me] += 1\n",
    "            \n",
    "                \n",
    "    if all(blocked):\n",
    "        print 'Everyone is blocked - deadlock'\n",
    "        \n",
    "    if done[0] and blocked[1]:\n",
    "        print '0 is done but 1 is blocked - deadlock'\n",
    "        \n",
    "    if done[1] and blocked[0]:\n",
    "        print '1 is done but 0 is blocked - deadlock'\n",
    "        \n",
    "    if all(done):\n",
    "        print 'Everyone finished normally'\n",
    "        \n",
    "    print 'Program 1 sent {} values'.format(count)\n",
    "      \n",
    "    "
   ]
  },
  {
   "cell_type": "code",
   "execution_count": null,
   "metadata": {
    "collapsed": false
   },
   "outputs": [],
   "source": [
    "instructions = read_input('Input/day18.txt')\n",
    "\n",
    "execute_instructions2(instructions)\n",
    "\n"
   ]
  }
 ],
 "metadata": {
  "kernelspec": {
   "display_name": "Python [Root]",
   "language": "python",
   "name": "Python [Root]"
  },
  "language_info": {
   "codemirror_mode": {
    "name": "ipython",
    "version": 2
   },
   "file_extension": ".py",
   "mimetype": "text/x-python",
   "name": "python",
   "nbconvert_exporter": "python",
   "pygments_lexer": "ipython2",
   "version": "2.7.12"
  }
 },
 "nbformat": 4,
 "nbformat_minor": 0
}
